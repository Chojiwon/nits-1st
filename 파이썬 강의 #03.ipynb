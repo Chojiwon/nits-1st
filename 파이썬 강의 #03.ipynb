{
 "cells": [
  {
   "cell_type": "markdown",
   "metadata": {},
   "source": [
    "## 클래스"
   ]
  },
  {
   "cell_type": "code",
   "execution_count": 1,
   "metadata": {
    "collapsed": true
   },
   "outputs": [],
   "source": [
    "class Person(object):\n",
    "    def __init__(self, name, age, region):\n",
    "        self.name = name\n",
    "        self.age = age\n",
    "        self.region = region"
   ]
  },
  {
   "cell_type": "code",
   "execution_count": 2,
   "metadata": {
    "collapsed": false
   },
   "outputs": [
    {
     "data": {
      "text/plain": [
       "__main__.Person"
      ]
     },
     "execution_count": 2,
     "metadata": {},
     "output_type": "execute_result"
    }
   ],
   "source": [
    "Person"
   ]
  },
  {
   "cell_type": "code",
   "execution_count": 3,
   "metadata": {
    "collapsed": false
   },
   "outputs": [
    {
     "ename": "TypeError",
     "evalue": "__init__() missing 3 required positional arguments: 'name', 'age', and 'region'",
     "output_type": "error",
     "traceback": [
      "\u001b[0;31m---------------------------------------------------------------------------\u001b[0m",
      "\u001b[0;31mTypeError\u001b[0m                                 Traceback (most recent call last)",
      "\u001b[0;32m<ipython-input-3-a5d4f07fdf58>\u001b[0m in \u001b[0;36m<module>\u001b[0;34m()\u001b[0m\n\u001b[0;32m----> 1\u001b[0;31m \u001b[0mperson\u001b[0m \u001b[0;34m=\u001b[0m \u001b[0mPerson\u001b[0m\u001b[0;34m(\u001b[0m\u001b[0;34m)\u001b[0m\u001b[0;34m\u001b[0m\u001b[0m\n\u001b[0m",
      "\u001b[0;31mTypeError\u001b[0m: __init__() missing 3 required positional arguments: 'name', 'age', and 'region'"
     ]
    }
   ],
   "source": [
    "person = Person()"
   ]
  },
  {
   "cell_type": "code",
   "execution_count": 4,
   "metadata": {
    "collapsed": true
   },
   "outputs": [],
   "source": [
    "tom = Person('Tom', 10, 'Seoul')"
   ]
  },
  {
   "cell_type": "code",
   "execution_count": 5,
   "metadata": {
    "collapsed": false
   },
   "outputs": [
    {
     "name": "stdout",
     "output_type": "stream",
     "text": [
      "Tom\n",
      "10\n",
      "Seoul\n"
     ]
    }
   ],
   "source": [
    "print(tom.name)\n",
    "print(tom.age)\n",
    "print(tom.region)"
   ]
  },
  {
   "cell_type": "code",
   "execution_count": 6,
   "metadata": {
    "collapsed": true
   },
   "outputs": [],
   "source": [
    "tom.kor_score = 90"
   ]
  },
  {
   "cell_type": "markdown",
   "metadata": {},
   "source": [
    "### 멤버변수 선언인줄 알았지만, 클래스 변수"
   ]
  },
  {
   "cell_type": "code",
   "execution_count": 10,
   "metadata": {
    "collapsed": false
   },
   "outputs": [
    {
     "name": "stdout",
     "output_type": "stream",
     "text": [
      "Tom 0 no region\n"
     ]
    }
   ],
   "source": [
    "class Person(object):\n",
    "    name = 'no name'  # class variable\n",
    "    age = 0\n",
    "    region = 'no region'\n",
    "\n",
    "    def __init__(self, name, age, region):\n",
    "        self.name = name\n",
    "        Person.name\n",
    "        self.__class__.name\n",
    "#         self.age = age\n",
    "#         self.region = region\n",
    "\n",
    "tom = Person('Tom', 10, 'Seoul')\n",
    "print(tom.name, tom.age, tom.region)"
   ]
  },
  {
   "cell_type": "code",
   "execution_count": 8,
   "metadata": {
    "collapsed": false
   },
   "outputs": [
    {
     "data": {
      "text/plain": [
       "('no name', 0, 'no region')"
      ]
     },
     "execution_count": 8,
     "metadata": {},
     "output_type": "execute_result"
    }
   ],
   "source": [
    "Person.name, Person.age, Person.region"
   ]
  },
  {
   "cell_type": "markdown",
   "metadata": {},
   "source": [
    "### 멤버함수 추가"
   ]
  },
  {
   "cell_type": "code",
   "execution_count": 13,
   "metadata": {
    "collapsed": false
   },
   "outputs": [
    {
     "name": "stdout",
     "output_type": "stream",
     "text": [
      "Hello Tom (from Seoul)\n",
      "Pusan로 이사했습니다.\n"
     ]
    }
   ],
   "source": [
    "class Person(object):\n",
    "    def __init__(self, name, age, region):\n",
    "        self.name = name\n",
    "        self.age = age\n",
    "        self.region = region\n",
    "        self.score = None\n",
    "    \n",
    "    def say_hello(self):\n",
    "        print('Hello {} (from {})'.format(self.name, self.region))\n",
    "    \n",
    "    def move_to(self, region):\n",
    "        self.region = region\n",
    "        print('{}로 이사했습니다.'.format(self.region))\n",
    "\n",
    "tom = Person('Tom', 10, 'Seoul')\n",
    "tom.say_hello()\n",
    "tom.move_to('Pusan')"
   ]
  },
  {
   "cell_type": "code",
   "execution_count": 17,
   "metadata": {
    "collapsed": false
   },
   "outputs": [
    {
     "name": "stdout",
     "output_type": "stream",
     "text": [
      "Hello Tom (from Pusan)\n",
      "Hello Tom (from Pusan)\n"
     ]
    }
   ],
   "source": [
    "tom.say_hello()\n",
    "Person.say_hello(tom)"
   ]
  },
  {
   "cell_type": "markdown",
   "metadata": {},
   "source": [
    "### 주요 오버라이딩 멤버함수"
   ]
  },
  {
   "cell_type": "code",
   "execution_count": 23,
   "metadata": {
    "collapsed": false
   },
   "outputs": [
    {
     "name": "stdout",
     "output_type": "stream",
     "text": [
      "0\n",
      "국어성적 : 100\n"
     ]
    }
   ],
   "source": [
    "class Result(object):\n",
    "    def __init__(self):\n",
    "        self.result_dict = {}\n",
    "    \n",
    "    def __len__(self):\n",
    "        return len(self.result_dict)\n",
    "    \n",
    "    def __getitem__(self, key):\n",
    "        return self.result_dict[key]\n",
    "\n",
    "    def __setitem__(self, key, value):\n",
    "        self.result_dict[key] = value\n",
    "    \n",
    "result = Result()\n",
    "print(len(result))\n",
    "\n",
    "result['국어'] = 100\n",
    "print('국어성적 : {}'.format(result['국어']))"
   ]
  },
  {
   "cell_type": "code",
   "execution_count": null,
   "metadata": {
    "collapsed": true
   },
   "outputs": [],
   "source": []
  }
 ],
 "metadata": {
  "anaconda-cloud": {},
  "kernelspec": {
   "display_name": "Python [conda root]",
   "language": "python",
   "name": "conda-root-py"
  },
  "language_info": {
   "codemirror_mode": {
    "name": "ipython",
    "version": 3
   },
   "file_extension": ".py",
   "mimetype": "text/x-python",
   "name": "python",
   "nbconvert_exporter": "python",
   "pygments_lexer": "ipython3",
   "version": "3.5.2"
  }
 },
 "nbformat": 4,
 "nbformat_minor": 1
}
