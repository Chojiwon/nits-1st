{
 "cells": [
  {
   "cell_type": "code",
   "execution_count": 1,
   "metadata": {
    "collapsed": false
   },
   "outputs": [
    {
     "name": "stdout",
     "output_type": "stream",
     "text": [
      "Who are you?Tom\n",
      "your answer is Tom\n",
      "None\n"
     ]
    }
   ],
   "source": [
    "def myfn1():\n",
    "    answer = input(\"Who are you?\")\n",
    "    print(\"your answer is {}\".format(answer))\n",
    "\n",
    "print(myfn1())"
   ]
  },
  {
   "cell_type": "code",
   "execution_count": 2,
   "metadata": {
    "collapsed": false
   },
   "outputs": [
    {
     "name": "stdout",
     "output_type": "stream",
     "text": [
      "당신의 이름은 Tom이며, 나이는 10입니다.\n"
     ]
    }
   ],
   "source": [
    "# Positional Arguments\n",
    "def fn_with_positional_arguments(name, age):\n",
    "    print(\"당신의 이름은 {}이며, 나이는 {}입니다.\".format(name, age))\n",
    "    \n",
    "fn_with_positional_arguments(\"Tom\", 10)"
   ]
  },
  {
   "cell_type": "code",
   "execution_count": 5,
   "metadata": {
    "collapsed": false
   },
   "outputs": [
    {
     "name": "stdout",
     "output_type": "stream",
     "text": [
      "당신의 이름은 Tom이며, 나이는 10입니다.\n",
      "당신의 이름은 이며, 나이는 0입니다.\n",
      "당신의 이름은 Tom이며, 나이는 10입니다.\n"
     ]
    }
   ],
   "source": [
    "# Keyword Arguments\n",
    "def fn_with_keyword_arguments(name=\"\", age=0):\n",
    "    print(\"당신의 이름은 {}이며, 나이는 {}입니다.\".format(name, age))\n",
    "\n",
    "fn_with_keyword_arguments(name=\"Tom\", age=10)\n",
    "fn_with_keyword_arguments()\n",
    "fn_with_keyword_arguments(age=10, name=\"Tom\")"
   ]
  },
  {
   "cell_type": "markdown",
   "metadata": {},
   "source": [
    "## 가변인자"
   ]
  },
  {
   "cell_type": "code",
   "execution_count": 6,
   "metadata": {
    "collapsed": false
   },
   "outputs": [
    {
     "name": "stdout",
     "output_type": "stream",
     "text": [
      "55\n"
     ]
    }
   ],
   "source": [
    "def mysum2(x, y):\n",
    "    return x + y\n",
    "\n",
    "def mysum3(x, y, z):\n",
    "    return x + y + z\n",
    "\n",
    "def mysum(numbers):\n",
    "    result = 0\n",
    "    for i in numbers:\n",
    "        result += i\n",
    "    return result\n",
    "\n",
    "print(mysum([1, 2, 3, 4, 5, 6, 7, 8, 9, 10]))"
   ]
  },
  {
   "cell_type": "code",
   "execution_count": 9,
   "metadata": {
    "collapsed": false
   },
   "outputs": [
    {
     "name": "stdout",
     "output_type": "stream",
     "text": [
      "0\n",
      "28\n",
      "45\n",
      "55\n"
     ]
    }
   ],
   "source": [
    "def mysum(*args):\n",
    "    result = 0\n",
    "    for i in args:\n",
    "        result += i\n",
    "    return result\n",
    "\n",
    "print(mysum())\n",
    "print(mysum(1, 2, 3, 4, 5, 6, 7))\n",
    "print(mysum(1, 2, 3, 4, 5, 6, 7, 8, 9))\n",
    "print(mysum(1, 2, 3, 4, 5, 6, 7, 8, 9, 10))"
   ]
  },
  {
   "cell_type": "code",
   "execution_count": 11,
   "metadata": {
    "collapsed": false
   },
   "outputs": [
    {
     "name": "stdout",
     "output_type": "stream",
     "text": [
      "1 2 ()\n",
      "3\n",
      "1 2 (3,)\n",
      "6\n",
      "1 2 (3, 4)\n",
      "10\n"
     ]
    }
   ],
   "source": [
    "def mysum_minimum_2_args(x, y, *args):\n",
    "    print(x, y, args)\n",
    "    result = x + y\n",
    "    for i in args:\n",
    "        result += i\n",
    "    return result\n",
    "\n",
    "print(mysum_minimum_2_args(1, 2))\n",
    "print(mysum_minimum_2_args(1, 2, 3))\n",
    "print(mysum_minimum_2_args(1, 2, 3, 4))"
   ]
  },
  {
   "cell_type": "code",
   "execution_count": 13,
   "metadata": {
    "collapsed": false
   },
   "outputs": [
    {
     "name": "stdout",
     "output_type": "stream",
     "text": [
      "6\n",
      "6\n",
      "6\n"
     ]
    }
   ],
   "source": [
    "def mysum(x, y, z):\n",
    "    return x + y + z\n",
    "\n",
    "print(mysum(1, 2, 3))\n",
    "\n",
    "myvalues = [1, 2, 3]\n",
    "print(mysum(myvalues[0], myvalues[1], myvalues[2]))\n",
    "\n",
    "print(mysum(*myvalues))"
   ]
  },
  {
   "cell_type": "code",
   "execution_count": 17,
   "metadata": {
    "collapsed": false
   },
   "outputs": [
    {
     "name": "stdout",
     "output_type": "stream",
     "text": [
      "('black',)\n",
      "{'mango': 12, 'orange': 5, 'apple': 10}\n",
      "('black',)\n",
      "{'apple': 10, 'orange': 5, 'mango': 12}\n"
     ]
    }
   ],
   "source": [
    "# 가변인자 : Keyword Arguments\n",
    "def fn2(color1, color2, *args, fruit1=0, fruit2=0, **kwargs):\n",
    "    print(args)\n",
    "    print(kwargs)\n",
    "\n",
    "fn2('white', 'yellow', 'black', apple=10, orange=5, mango=12)\n",
    "\n",
    "# unpacking\n",
    "myvalues = {'apple':10, 'orange':5, 'mango':12}\n",
    "fn2('white', 'yellow', 'black', **myvalues)"
   ]
  },
  {
   "cell_type": "code",
   "execution_count": 20,
   "metadata": {
    "collapsed": false
   },
   "outputs": [
    {
     "name": "stdout",
     "output_type": "stream",
     "text": [
      "3\n",
      "3\n",
      "3\n"
     ]
    }
   ],
   "source": [
    "# 익명함수\n",
    "print((lambda x, y: x + y)(1, 2))\n",
    "\n",
    "def mysum1(x, y):\n",
    "    return x + y\n",
    "\n",
    "mysum2 = lambda x, y: x + y\n",
    "\n",
    "print(mysum1(1, 2))\n",
    "print(mysum2(1, 2))"
   ]
  },
  {
   "cell_type": "code",
   "execution_count": 22,
   "metadata": {
    "collapsed": false
   },
   "outputs": [
    {
     "name": "stdout",
     "output_type": "stream",
     "text": [
      "55\n"
     ]
    }
   ],
   "source": [
    "mysum3 = lambda *args: sum(args)\n",
    "print(mysum3(1, 2, 3, 4, 5, 6, 7, 8, 9, 10))"
   ]
  },
  {
   "cell_type": "markdown",
   "metadata": {},
   "source": [
    "## 호출가능한 객체"
   ]
  },
  {
   "cell_type": "code",
   "execution_count": 30,
   "metadata": {
    "collapsed": false
   },
   "outputs": [
    {
     "name": "stdout",
     "output_type": "stream",
     "text": [
      "13\n",
      "16\n",
      "19\n"
     ]
    }
   ],
   "source": [
    "class Calculator(object):\n",
    "    def __init__(self, base):\n",
    "        self.base = base\n",
    "    \n",
    "    def calc(self, x, y):\n",
    "        return self.base + x + y\n",
    "    \n",
    "    def __call__(self, x, y):\n",
    "        self.base += (x + y)\n",
    "        return self.base\n",
    "\n",
    "calculator = Calculator(10)\n",
    "print(calculator(1, 2))\n",
    "# print(calculator.__call__(1, 2))\n",
    "# print(calculator.calc(1, 2))\n",
    "\n",
    "print(calculator(1, 2))\n",
    "\n",
    "print(calculator(1, 2))"
   ]
  },
  {
   "cell_type": "markdown",
   "metadata": {},
   "source": [
    "## 빌트인 함수"
   ]
  },
  {
   "cell_type": "code",
   "execution_count": 31,
   "metadata": {
    "collapsed": false
   },
   "outputs": [
    {
     "data": {
      "text/plain": [
       "[' ', 'd', 'e', 'h', 'l', 'l', 'l', 'o', 'o', 'r', 'w']"
      ]
     },
     "execution_count": 31,
     "metadata": {},
     "output_type": "execute_result"
    }
   ],
   "source": [
    "sorted(\"hello world\")"
   ]
  },
  {
   "cell_type": "code",
   "execution_count": 32,
   "metadata": {
    "collapsed": false
   },
   "outputs": [
    {
     "data": {
      "text/plain": [
       "['w', 'r', 'o', 'o', 'l', 'l', 'l', 'h', 'e', 'd', ' ']"
      ]
     },
     "execution_count": 32,
     "metadata": {},
     "output_type": "execute_result"
    }
   ],
   "source": [
    "sorted(\"hello world\", reverse=True)"
   ]
  },
  {
   "cell_type": "code",
   "execution_count": 39,
   "metadata": {
    "collapsed": false
   },
   "outputs": [
    {
     "name": "stdout",
     "output_type": "stream",
     "text": [
      "[30, 11, 21, 63, 45]\n",
      "[45, 63, 11, 21, 30]\n"
     ]
    }
   ],
   "source": [
    "# 임의 기준으로 정렬하기\n",
    "sort_fn = lambda i: i % 10\n",
    "mylist = [11, 21, 30, 45, 63]\n",
    "print(sorted(mylist, key=sort_fn))\n",
    "print(sorted(mylist, key=sort_fn, reverse=True))"
   ]
  },
  {
   "cell_type": "code",
   "execution_count": 41,
   "metadata": {
    "collapsed": false
   },
   "outputs": [
    {
     "data": {
      "text/plain": [
       "[45, 63, 11, 21, 30]"
      ]
     },
     "execution_count": 41,
     "metadata": {},
     "output_type": "execute_result"
    }
   ],
   "source": [
    "mylist = [11, 21, 30, 45, 63]\n",
    "mylist.sort(key=sort_fn, reverse=True)\n",
    "mylist"
   ]
  },
  {
   "cell_type": "code",
   "execution_count": 43,
   "metadata": {
    "collapsed": false
   },
   "outputs": [
    {
     "data": {
      "text/plain": [
       "[10, 20, 11, 211, 121, 12, 313, 9]"
      ]
     },
     "execution_count": 43,
     "metadata": {},
     "output_type": "execute_result"
    }
   ],
   "source": [
    "'''\n",
    "다음 리스트를 다음 기준으로 정렬해보세요.\n",
    "1차 기준 : 1의 자리 숫자\n",
    "2차 기준 : 자릿수\n",
    "'''\n",
    "sort_fn = lambda i: [i%10, len(str(i))]\n",
    "mylist = [10, 11, 9, 20, 12, 313, 211, 121]\n",
    "mylist.sort(key=sort_fn)\n",
    "mylist\n"
   ]
  },
  {
   "cell_type": "code",
   "execution_count": 46,
   "metadata": {
    "collapsed": false
   },
   "outputs": [
    {
     "data": {
      "text/plain": [
       "[1, 2, 3, 4, 10, 12, 13]"
      ]
     },
     "execution_count": 46,
     "metadata": {},
     "output_type": "execute_result"
    }
   ],
   "source": [
    "# filter 내장함수\n",
    "list(filter(lambda i: i%10 < 5, [1, 2, 3, 4, 5, 6, 7, 8, 9, 10, 12, 13, 15]))"
   ]
  },
  {
   "cell_type": "code",
   "execution_count": 47,
   "metadata": {
    "collapsed": false
   },
   "outputs": [
    {
     "data": {
      "text/plain": [
       "[1, 2, 3, 4, 5, 6, 7, 8, 9, 12, 13, 15]"
      ]
     },
     "execution_count": 47,
     "metadata": {},
     "output_type": "execute_result"
    }
   ],
   "source": [
    "list(filter(lambda i: i%10, [1, 2, 3, 4, 5, 6, 7, 8, 9, 10, 12, 13, 15]))"
   ]
  },
  {
   "cell_type": "code",
   "execution_count": 50,
   "metadata": {
    "collapsed": false
   },
   "outputs": [
    {
     "name": "stdout",
     "output_type": "stream",
     "text": [
      "[1, 4, 9, 16, 25, 36, 49, 64, 81, 100]\n",
      "[1, 4, 9, 16, 25, 36, 49, 64, 81, 100]\n"
     ]
    }
   ],
   "source": [
    "# map 내장함수\n",
    "mylist = [1, 2, 3, 4, 5, 6, 7, 8, 9, 10]\n",
    "print(list(map(lambda i: i**2, mylist)))\n",
    "\n",
    "# map 을 쓰지 않는다면?\n",
    "result = []\n",
    "for i in mylist:\n",
    "    result.append(i ** 2)\n",
    "print(result)"
   ]
  },
  {
   "cell_type": "code",
   "execution_count": 51,
   "metadata": {
    "collapsed": false
   },
   "outputs": [
    {
     "data": {
      "text/plain": [
       "[4, 8, 12, 16, 20]"
      ]
     },
     "execution_count": 51,
     "metadata": {},
     "output_type": "execute_result"
    }
   ],
   "source": [
    "mylist = [1, 2, 3, 4, 5, 6, 7, 8, 9, 10]\n",
    "list(map(lambda i: i*2, filter(lambda i: i%2==0, mylist)))"
   ]
  },
  {
   "cell_type": "code",
   "execution_count": 57,
   "metadata": {
    "collapsed": false
   },
   "outputs": [
    {
     "name": "stdout",
     "output_type": "stream",
     "text": [
      "999\n",
      "9\n",
      "9\n",
      "10\n",
      "999\n",
      "999\n",
      "999\n"
     ]
    }
   ],
   "source": [
    "# max/min 내장함수\n",
    "mylist = [10, 9, 20, 31, 43, 123, 431, 932, 999]\n",
    "print(max(mylist))\n",
    "print(max(mylist, key=lambda i: i%10))\n",
    "\n",
    "print(min(mylist))\n",
    "print(min(mylist, key=lambda i: i%10))\n",
    "\n",
    "print(max(10, 9, 20, 31, 43, 123, 431, 932, 999))\n",
    "print(max(*mylist))\n",
    "print(max(mylist))"
   ]
  },
  {
   "cell_type": "markdown",
   "metadata": {},
   "source": [
    "## 퀴즈\n",
    "\n",
    " * 문자열내 브랜드명을 카운트해서, TOP3 출력"
   ]
  },
  {
   "cell_type": "code",
   "execution_count": 72,
   "metadata": {
    "collapsed": false
   },
   "outputs": [
    {
     "data": {
      "text/plain": [
       "[('Naver', 4), ('Google', 3), ('Microsoft', 2)]"
      ]
     },
     "execution_count": 72,
     "metadata": {},
     "output_type": "execute_result"
    }
   ],
   "source": [
    "line = \"Naver Naver Apple      Microsoft Google Apple Microsoft Samsung LG Google Google Naver Naver\"\n",
    "words = line.split()\n",
    "\n",
    "result = {}\n",
    "for word in words:\n",
    "    if word not in result:\n",
    "        result[word] = 0\n",
    "    result[word] += 1\n",
    "\n",
    "# print(list(result))\n",
    "# print(list(result.keys()))\n",
    "# print(list(result.values()))\n",
    "# print(list(result.items()))\n",
    "result_list = list(result.items())\n",
    "result_list.sort(key=lambda ele: ele[1], reverse=True)\n",
    "result_list[:3]"
   ]
  },
  {
   "cell_type": "code",
   "execution_count": 80,
   "metadata": {
    "collapsed": false
   },
   "outputs": [
    {
     "data": {
      "text/plain": [
       "[('Naver', 4), ('Google', 3), ('Microsoft', 2)]"
      ]
     },
     "execution_count": 80,
     "metadata": {},
     "output_type": "execute_result"
    }
   ],
   "source": [
    "# defaultdict 활용\n",
    "from collections import defaultdict\n",
    "\n",
    "line = \"Naver Naver Apple      Microsoft Google Apple Microsoft Samsung LG Google Google Naver Naver\"\n",
    "words = line.split()\n",
    "\n",
    "def get_default_value():\n",
    "    return 10\n",
    "\n",
    "result = defaultdict(int)\n",
    "# result = defaultdict(lambda: 10)\n",
    "# result = defaultdict(get_default_value)\n",
    "for word in words:\n",
    "    result[word] += 1\n",
    "\n",
    "result_list = list(result.items())\n",
    "result_list.sort(key=lambda ele: ele[1], reverse=True)\n",
    "result_list[:3]"
   ]
  },
  {
   "cell_type": "code",
   "execution_count": 75,
   "metadata": {
    "collapsed": false
   },
   "outputs": [
    {
     "data": {
      "text/plain": [
       "(int, float, str, list, tuple, set, dict)"
      ]
     },
     "execution_count": 75,
     "metadata": {},
     "output_type": "execute_result"
    }
   ],
   "source": [
    "int, float, str, list, tuple, set, dict"
   ]
  },
  {
   "cell_type": "code",
   "execution_count": 76,
   "metadata": {
    "collapsed": false
   },
   "outputs": [
    {
     "data": {
      "text/plain": [
       "(0, 0.0, '', [], (), set(), {})"
      ]
     },
     "execution_count": 76,
     "metadata": {},
     "output_type": "execute_result"
    }
   ],
   "source": [
    "int(), float(), str(), list(), tuple(), set(), dict()"
   ]
  },
  {
   "cell_type": "markdown",
   "metadata": {},
   "source": [
    "## 모듈 및 팩키지"
   ]
  },
  {
   "cell_type": "code",
   "execution_count": 82,
   "metadata": {
    "collapsed": false
   },
   "outputs": [],
   "source": [
    "import os.path"
   ]
  },
  {
   "cell_type": "code",
   "execution_count": 83,
   "metadata": {
    "collapsed": true
   },
   "outputs": [],
   "source": [
    "from os import path"
   ]
  },
  {
   "cell_type": "code",
   "execution_count": 84,
   "metadata": {
    "collapsed": false
   },
   "outputs": [
    {
     "name": "stdout",
     "output_type": "stream",
     "text": [
      "main 함수가 실행되었습니다.\n"
     ]
    }
   ],
   "source": [
    "# main 함수 개념은 없지만\n",
    "\n",
    "def main():\n",
    "    print(\"main 함수가 실행되었습니다.\")\n",
    "\n",
    "if __name__ == '__main__':\n",
    "    main()"
   ]
  },
  {
   "cell_type": "markdown",
   "metadata": {},
   "source": [
    "## CSV 만들기"
   ]
  },
  {
   "cell_type": "code",
   "execution_count": 85,
   "metadata": {
    "collapsed": true
   },
   "outputs": [],
   "source": [
    "f = open(\"sample.csv\", \"wt\", encoding=\"utf8\")\n",
    "f.write(\"col1,col2,col3,col4\\n\")\n",
    "f.write(\"col1,col2,col3,col4\\n\")\n",
    "f.write(\"col1,col2,col3,col4\\n\")\n",
    "f.close()"
   ]
  },
  {
   "cell_type": "code",
   "execution_count": 87,
   "metadata": {
    "collapsed": false
   },
   "outputs": [
    {
     "name": "stdout",
     "output_type": "stream",
     "text": [
      "col1,col2,col3,col4\r\n",
      "col1,col2,col3,col4\r\n",
      "col1,col2,col3,col4\r\n"
     ]
    }
   ],
   "source": [
    "!cat sample.csv"
   ]
  },
  {
   "cell_type": "code",
   "execution_count": 90,
   "metadata": {
    "collapsed": true
   },
   "outputs": [],
   "source": [
    "import csv\n",
    "\n",
    "with open(\"sample.csv\", \"wt\", encoding='cp949') as f:\n",
    "    writer = csv.writer(f)\n",
    "    writer.writerow(['컬럼1', 'col2', 'col3', 'col4'])\n",
    "    writer.writerow(['col1', 'col2', 'col3', 'col4'])\n",
    "    writer.writerow(['col1', 'col2', 'col3', 'col4'])\n",
    "    writer.writerow(['col1', 'col2', 'col3', 'col4'])"
   ]
  },
  {
   "cell_type": "code",
   "execution_count": 91,
   "metadata": {
    "collapsed": false
   },
   "outputs": [
    {
     "name": "stdout",
     "output_type": "stream",
     "text": [
      "�÷�1,col2,col3,col4\r",
      "\r\n",
      "col1,col2,col3,col4\r",
      "\r\n",
      "col1,col2,col3,col4\r",
      "\r\n",
      "col1,col2,col3,col4\r",
      "\r\n"
     ]
    }
   ],
   "source": [
    "!cat sample.csv"
   ]
  },
  {
   "cell_type": "code",
   "execution_count": null,
   "metadata": {
    "collapsed": true
   },
   "outputs": [],
   "source": []
  }
 ],
 "metadata": {
  "anaconda-cloud": {},
  "kernelspec": {
   "display_name": "Python [conda root]",
   "language": "python",
   "name": "conda-root-py"
  },
  "language_info": {
   "codemirror_mode": {
    "name": "ipython",
    "version": 3
   },
   "file_extension": ".py",
   "mimetype": "text/x-python",
   "name": "python",
   "nbconvert_exporter": "python",
   "pygments_lexer": "ipython3",
   "version": "3.5.2"
  }
 },
 "nbformat": 4,
 "nbformat_minor": 1
}
