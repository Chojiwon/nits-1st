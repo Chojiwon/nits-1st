{
 "cells": [
  {
   "cell_type": "code",
   "execution_count": 1,
   "metadata": {
    "collapsed": false
   },
   "outputs": [
    {
     "data": {
      "text/plain": [
       "'<!doctype html>\\n<html lang=\"ko\">\\n<head>\\n<meta charset=\"utf-8\">\\n<meta http-equiv=\"Content-Script-Type\" content=\"text/javascript\">\\n<meta http-equiv=\"Content-Style-Type\" content=\"text/css\">\\n<meta http-equiv=\"X-UA-Compatible\" content=\"IE=edge\">\\n<meta name=\"viewport\" content=\"width=960\">\\n<meta name=\"apple-mobile-web-app-title\" content=\"NAVER\" />\\n<meta property=\"og:title\" content=\"네이버 메인\">\\n<meta property=\"og:url\" content=\"http://www.naver.com/\">\\n<meta property=\"og:image\" content=\"http://static.naver.net/www/mobile/edit/2016/0705/mobile_212852414260.png\">\\n<meta property=\"og:description\" content=\"네이버 메인에서 다양한 정보와 유용한 컨텐츠를 만나 보세요\">\\n<meta name=\"twitter:card\" content=\"summary\">\\n<meta name=\"twitter:title\" content=\"네이버 메인\">\\n<meta name=\"twitter:url\" content=\"http://www.naver.com/\">\\n<meta name=\"twitter:image\" content=\"http://static.naver.net/www/mobile/edit/2016/0705/mobile_212852414260.png\">\\n<meta name=\"twitter:description\" content=\"네이버 메인에서 다양한 정보와 유용한 컨텐츠를 만나 보세요\">\\n<link rel=\"shortcut icon\" type=\"image/x-icon\" href=\"/favicon.ico?1\" />\\n\\n<title>NAVER</title>\\n\\n\\n\\n\\n\\n\\n\\n\\n\\n\\n\\n\\n<link rel=\"stylesheet\" type=\"text/css\" href=\"http://s.pm.naver.net/css/main_v20161108.css\" />\\n\\n\\n<link rel=\"stylesheet\" type=\"text/css\" id=\"login-css\" href=\"http://static.nid.naver.com/loginv4/www.css?1\" />\\n\\n<script type=\"text/javascript\">\\n//<![CDATA[\\ndocument.domain = \"naver.com\";\\nhistory.navigationMode = \\'compatible\\';\\nvar nsc = \"navertop.v3\";\\nvar jindoAll = \"http://s.pm.naver.net/js/c/jindo.all.20150511.min.js\";\\n</script>\\n<script type=\"text/javascript\" src=\"http://s.pm.naver.net/js/c/nlog_20161027.min.js\"></script>\\n<script type=\"text/javascript\">\\nvar isLogin = false; \\nvar global = {\\nisSupportedFlicking : false,\\nisIPAD : false\\n};\\nvar strHost = \"www.naver.com\";\\nvar isMobile = false;\\nvar isMyCast = false;\\nvar svr = \"<!--tweb102.ntop-->\";\\n\\nvar svt = \"20161128141659\";\\nvar LogError=function(b){var a=new Image();a.src=\"http://cecs.naver.com/?m=\"+b+\"&u=\"+document.location+\"&l=1115\"};DLScript={quSXI:new Array(),quS:new Array(),retry:0,isLoad:function(a){for(var b=this.quS.length-1;\\nb>=0;b--){if(this.quS[b]===a){return true}}return false},_runOnload:function(b,d,c){if(!d){return}var a=b.readyState;if(typeof a===\"undefined\"&&!b.onloadDone){b.onloadDone=true;(c)?setTimeout(d,100):b.onload=d;\\nreturn}if((\"loaded\"===a||\"complete\"===a)&&!b.onloadDone){b.onloadDone=true;setTimeout(d,100)}else{if(this.retry<10){this.retry++;setTimeout(function(){DLScript._runOnload(b,d,c)},10)}}},_createJSDom:function(c,b){var a=document.createElement(\"script\");\\nif(b==\"src\"){a.src=c}else{a.text=c}return a},_appendJSDom:function(a){document.getElementsByTagName(\"head\")[0].appendChild(a)},loadDS:function(b,d,c){if(!this.isLoad(b)){this.quS[this.quS.length]=b;var a=this._createJSDom(b,\"src\");\\nthis._runOnload(a,d,c);this._appendJSDom(a)}else{if(d){setTimeout(d,100)}}},loadXI:function(c,i,g,d){if(!this.isLoad(c)){this.quS[DLScript.quS.length]=c;var h=this.quSXI.length;if(d){var a={response:null,onload:g,done:false};\\nDLScript.quSXI[h]=a}if(typeof window.localStorage!=\"undefined\"){try{var b=window.localStorage.getItem(c+\"_uid\");var m=window.localStorage.getItem(c)}catch(j){if(j.description){LogError(\"[DL] localStorge get : \"+j.description)\\n}}if(m&&i&&b==i){if(d){DLScript.quSXI[h].response=m;DLScript.injectScripts()}else{var f=DLScript._createJSDom(m,\"text\");DLScript._runOnload(f,g,true);DLScript._appendJSDom(f)}return}}var k=DLScript.getXHRObject();\\nif(!k){LogError(\"[DL] XHRObject is NULL\");this.loadDS(c,g);return}k.onreadystatechange=function(){if(k.readyState==4){if(k.status==200||k.status==0){var o=k.responseText;try{if(typeof window.localStorage!=\"undefined\"&&i){DLScript.clearLS();\\nwindow.localStorage.setItem(c,o);window.localStorage.setItem(c+\"_uid\",i)}}catch(p){if(p.description){LogError(\"[DL] localStorge set : \"+p.description)}}if(d){DLScript.quSXI[h].response=o;DLScript.injectScripts()\\n}else{var n=DLScript._createJSDom(o,\"text\");DLScript._runOnload(n,g,true);DLScript._appendJSDom(n)}}else{LogError(\"[DL] status is not 200(0) - \"+k.status);DLScript.removeUrl(c);DLScript.clearLS();setTimeout(g,100)\\n}}};var l=\"\";if(i){l=(c.indexOf(\"?\")>0)?\"&\"+i:\"?\"+i}k.open(\"GET\",c+l,true);k.setRequestHeader(\"Content-Type\",\"application/x-www-form-urlencoded; charset=utf-8\");k.setRequestHeader(\"charset\",\"utf-8\");k.send(\"\")\\n}else{if(g){setTimeout(g,100)}}},injectScripts:function(){var a=DLScript.quSXI.length;for(var c=0;c<a;c++){var d=DLScript.quSXI[c];if(!d.done){if(!d.response){break}else{d.done=true;var b=DLScript._createJSDom(d.response,\"text\");\\nDLScript._runOnload(b,d.onload,true);DLScript._appendJSDom(b)}}}},getXHRObject:function(){var c=false;try{c=new XMLHttpRequest()}catch(f){var b=[\"Msxml2.XMLHTTP\",\"Microsoft.XMLHTTP\",\"Msxml2.XMLHTTP.6.0\",\"Msxml2.XMLHTTP.3.0\"];\\nvar a=b.length;for(var d=0;d<a;d++){try{c=new ActiveXObject(b[d])}catch(f){LogError(\"[DL] getXHRObject - \"+f.description);continue}break}}finally{return c}},loadWS:function(a){document.write(\\'<script src=\"\\'+a+\\'\" type=\"text/javascript\"><\\\\/script>\\')\\n},clearLS:function(){if(typeof window.localStorage!=\"undefined\"){try{window.localStorage.clear()}catch(a){if(a.description){LogError(\"[DL] clearLS : \"+a.description)}}}},removeUrl:function(a){for(var b=this.quS.length-1;\\nb>=0;b--){if(this.quS[b]===a){this.quS[b]=\"\"}}}};\\nfunction refreshLcs(etc) {if(document.cookie.indexOf(\"nrefreshx=1\") != -1) {etc=etc?etc:{};etc[\"mrf\"]=\"1\";return etc;}return null;}\\nlcs_do(refreshLcs());\\n//]]>\\n</script>\\n</head>\\n\\n\\n<body class=\\'\\'>\\n\\n\\n\\n\\n\\n\\n<div id=\"u_skip\">\\n<a href=\"#news_cast2\" onclick=\"document.getElementById(\\'news_cast2\\').tabIndex = -1;document.getElementById(\\'news_cast2\\').focus();return false;\"><span>뉴스스탠드 바로가기</span></a>\\n<a href=\"#themecast\" onclick=\"document.getElementById(\\'themecast\\').tabIndex = -1;document.getElementById(\\'themecast\\').focus();return false;\"><span>주제별캐스트 바로가기</span></a>\\n<a href=\"#time_square\" onclick=\"document.getElementById(\\'time_square\\').tabIndex = -1;document.getElementById(\\'time_square\\').focus();return false;\"><span>타임스퀘어 바로가기</span></a>\\n<a href=\"#cnsv_shbx\" onclick=\"document.getElementById(\\'cnsv_shbx\\').tabIndex = -1;document.getElementById(\\'cnsv_shbx\\').focus();return false;\"><span>쇼핑캐스트 바로가기</span></a>\\n\\n<a href=\"#account\" onclick=\"document.getElementById(\\'account\\').tabIndex = -1;document.getElementById(\\'account\\').focus();return false;\"><span>로그인 바로가기</span></a>\\n\\n</div>\\n<div id=\"wrap\">\\n<div id=\"nanum_popup\">\\n<div tabindex=\"0\" class=\"nanum_popup\" id=\"nanum_popup1\" style=\"display:none;top:50%;left:50%;width:349px;margin-top:-127px;margin-left:-174px\">\\n<div class=\"nanum_popup_in\">\\n<div class=\"cnt\"><span class=\"ques\"></span>\\n<h4>나눔글꼴 설치 안내</h4>\\n<p>네이버 메인을 나눔글꼴로 보기 위해서는<br><span>&nbsp;나눔글꼴을 설치</span>해야 합니다.<br>나눔글꼴을 설치하시겠습니까?</p>\\n<a href=\"#\" class=\"nanum_inst\">설치</a>\\n<a href=\"#\" class=\"nanum_cancel\">취소</a>\\n</div>\\n<div class=\"txt_notice\">\\n<p>개인 및 기업을 포함, 모든 사용자가 무료로 사용 가능합니다.</p>\\n<a href=\"http://help.naver.com/ops/step2/faq.nhn?faqId=15879\">나눔글꼴 라이센스 전문보기</a>\\n</div>\\n<span class=\"btn_cl\">\\n<button type=\"button\" title=\"레이어 닫기\"><span class=\"blind\">레이어 닫기</span></button>\\n</span>\\n</div>\\n<iframe title=\"빈프레임\" frameborder=\"0\" style=\"position:absolute;top:0;left:0;z-index:-1;width:100%;height:100%;border:0\"></iframe>\\n</div>\\n<div tabindex=\"0\" class=\"nanum_popup\" id=\"nanum_popup2\" style=\"display:none;top:50%;left:50%;width:424px;margin-top:-158px;margin-left:-212px\">\\n<div class=\"nanum_popup_in\">\\n<div class=\"cnt\"><span class=\"ques\"></span>\\n<h4>나눔글꼴 확인 오류</h4>\\n<p>고객님의 PC에서 나눔글꼴이 확인되지 않습니다.<br>나눔글꼴로 메인을 보기위해서는<span>나눔글꼴 재설치</span>가 필요합니다.<br>\\n<strong>나눔글꼴을 다시 설치하시겠습니까?</strong></p>\\n<p class=\"txt_nanum\">나눔글꼴이 확인되지 않는 이유는 나눔글꼴 최초설치가 제대로<br>완료되지 않은 경우, 설치된 폰트를 임의로 삭제한 경우에 발생합니다.</p>\\n<a href=\"#\" class=\"nanum_inst\">설치</a>\\n<a href=\"#\" class=\"nanum_cancel\">취소</a>\\n</div>\\n<div class=\"txt_notice\">\\n<p>개인 및 기업을 포함, 모든 사용자가 무료로 사용 가능합니다.</p>\\n<a href=\"http://help.naver.com/ops/step2/faq.nhn?faqId=15879\">나눔글꼴 라이센스 전문보기</a>\\n</div>\\n<span class=\"btn_cl\">\\n<button type=\"button\" title=\"레이어 닫기\"><span class=\"blind\">레이어 닫기</span></button>\\n</span>\\n</div>\\n<iframe title=\"빈프레임\" frameborder=\"0\" style=\"position:absolute;top:0;left:0;z-index:-1;width:100%;height:100%;border:0\"></iframe>\\n</div>\\n</div>\\n<div style=\"position:relative; width:940px; margin:0 auto; z-index:11;\">\\n<div id=\"da_top\"></div>\\n<div id=\"da_brand\"></div>\\n<div id=\"da_stake\"></div>\\n<div id=\"da_expwide\"></div>\\n</div>\\n<div id=\"header\">\\n<div class=\"gnb\">\\n<h2 class=\"blind\">홈 유형 선택</h2>\\n<ul class=\"nav_hm\">\\n<li id=\"nav_hm\" class=\"m\"><a href=\"http://www.naver.com/\" onclick=\"clickcr(this,\\'HNB.cast\\',\\'\\',\\'\\',event);\" accesskey=\"1\" ><span class=\"nav_hm2_ly nav_hm2_ly1\">네이버 홈</span></a></li>\\n<li id=\"nav_hm2\" class=\"m2\"><a href=\"http://se.naver.com/\" onclick=\"clickcr(this,\\'HNB.search\\',\\'\\',\\'\\',event);\" accesskey=\"2\"><span class=\"nav_hm2_ly nav_hm2_ly2\">가볍고 빠른 검색홈, <span>네이버SE</span></span></a></li>\\n<li id=\"nav_hm3\" class=\"m3\"><a href=\"http://me.naver.com/\" onclick=\"clickcr(this,\\'HNB.desk\\',\\'\\',\\'\\',event);\" accesskey=\"3\"><span class=\"nav_hm2_ly nav_hm2_ly3\">나만의 네이버 홈, <span>네이버me</span></span></a></li>\\n</ul>\\n<h2 class=\"blind\">네이버 설정</h2>\\n<ul class=\"naver_set\">\\n<li class=\"makeHomePage\"><a href=\"http://help.naver.com/support/welcomePage/guide.nhn\" id=\"mkhome\" onclick=\"clickcr(this,\\'top.mkhome\\',\\'\\',\\'\\',event);\">네이버를 시작페이지로</a></li>\\n<li class=\"naverapp\">\\n<a href=\"#\" class=\"btn\" onclick=\"clickcr(this,\\'top.app\\',\\'\\',\\'\\',event);Andro_MSG.toggle();return false;\">네이버 앱 다운로드</a>\\n<div id=\"naverapply\" class=\"ly_hnb hide\">\\n<p class=\"tit\">네이버 앱을 설치하세요!</p>\\n<fieldset>\\n<legend>다운로드URL 문자받기</legend>\\n<span class=\"txtsm\">다운로드URL 문자받기</span>\\n<label class=\"blind\" for=\"app_phone\">휴대폰번호 입력</label>\\n<input class=\"empty\" type=\"text\" value=\"\" id=\"app_phone\" />\\n<button type=\"button\" class=\"btnsm\"><span class=\"blind\">보내기</span></button>\\n</fieldset>\\n<p class=\"desc\">입력하신 번호는 저장되지 않고, 전송은 무료입니다.</p>\\n<p class=\"qr\"><img data-src=\"http://img.naver.net/static/www/dl_qr_naver.png\" width=\"68\" height=\"84\" alt=\"네이버 앱 QR코드\" /></p>\\n<ul class=\"app\">\\n<li class=\"f\"><a href=\"#naver\"><strong>네이버 앱</strong></a></li>\\n<li><a href=\"#map\">지도</a></li>\\n<li><a href=\"#n_drive\">N드라이브</a></li>\\n<li><a href=\"#books\">북스</a></li>\\n<li><a href=\"#music\">뮤직</a></li>\\n<li><a href=\"#line\">라인</a></li>\\n<li><a href=\"#appstore\">앱스토어</a><span class=\"new\">new</span></li>\\n</ul>\\n<div class=\"cls\"><a href=\"#close\" title=\"네이버 앱 다운로드 레이어 닫기\" onclick=\"clickcr(this,\\'top*m.close\\',\\'\\',\\'\\',event);Andro_MSG.close();return false;\"><span class=\"blind\">네이버 앱 다운로드 레이어 닫기</span></a></div>\\n</div>\\n</li>\\n\\n\\n\\n\\n\\n<!-- 글꼴설정 -->\\n<li class=\"set_font\">\\n<!-- [d] : 열렸을경우 setf_open 추가 -->\\n<ul class=\"setf\">\\n<li class=\"first\"><span class=\"blind\">현재</span><a href=\"#\" onclick=\"return false;\">시스템글꼴</a></li>\\n<li class=\"second\"><a href=\"#\" onclick=\"return false;\">나눔글꼴</a></li>\\n</ul>\\n<!-- [d] : 열렸을경우 setf_help_open 추가 -->\\n<div class=\"setf_help\">\\n<a href=\"#\" onclick=\"return false;\" title=\"글꼴설정 도움말\" class=\"setf_help_toggle\">글꼴설정 도움말</a>\\n<div class=\"ly_setf_help\">\\n<ul>\\n<li><a href=\"#\" onclick=\"return false;\" id=\"font_preview\">나눔글꼴 미리보기</a></li>\\n<li><a href=\"http://hangeul.naver.com/\" onclick=\"clickcr( this, \\'top.fontcampaign\\', \\'\\', \\'\\', event );\" >네이버 한글캠페인</a></li>\\n<li><a href=\"https://help.naver.com/support/service/main.nhn?serviceNo=1074&categoryNo=3484\" onclick=\"clickcr( this, \\'top.fontfaq\\', \\'\\', \\'\\', event );\" >도움말</a></li>\\n</ul>\\n<a href=\"#\" class=\"ly_setf_close\" title=\"글꼴설정 도움말 닫기\" onclick=\"return false;\" >글꼴설정 도움말 닫기</a>\\n</div>\\n</div>\\n</li>\\n\\n</ul>\\n<h2 class=\"blind\">패밀리 사이트</h2>\\n<div id=\"fms\" class=\"fms\">\\n<a href=\"http://happybean.naver.com/main/SectionMain.nhn\" id=\"top.happybean\" class=\"hb\"><span class=\"ir\">해피빈</span></a><span>|</span><a href=\"http://jr.naver.com\" id=\"top.jrnaver\" class=\"ju\"><span class=\"ir\">쥬니버</span></a>\\n</div>\\n<div id=\"promotion8\" style=\"display:none;height:41px;\">\\n<img data-src=\"http://img.naver.net/static/www/up/2012/naver_homepage.png\" width=\"880\" height=\"31\" alt=\"시작페이지\" usemap=\"#sliding\" />\\n<map id=\"promo_sliding\" name=\"sliding\">\\n<area shape=\"rect\" coords=\"533,5,575,24\" href=\"http://www.naver.com/\" onclick=\"clickcr(this,\\'tsb.set\\',\\'\\',\\'\\',event);return HomePageSet.setHomePage();\" alt=\"시작페이지 설정\" />\\n<area shape=\"rect\" coords=\"580,5,622,24\" href=\"http://www.naver.com/\" onclick=\"clickcr(this,\\'tsb.no\\',\\'\\',\\'\\',event);return HomePageSet.cancel();\" alt=\"시작페이지 안하기\" />\\n<area id=\"sethomepage_close\" shape=\"rect\" coords=\"855,5,875,23\" href=\"#\" alt=\"배너 닫기\" onclick=\"clickcr(this,\\'tsb.close\\',\\'\\',\\'\\',event);return HomePageSet.cancel();\" />\\n</map>\\n</div>\\n<script type=\"text/javascript\">\\n//<![CDATA[\\nvar slidingCookieName = \"naverSetHomepage\";\\nvar slidingCookieExpDate = 1;\\nvar slidingOneTimeLink = 1;\\n//]]>\\n</script>\\n</div>\\n<div class=\"lnb\">\\n<h1>\\n<img src=\\'http://img.naver.net/static/www/u/2013/0731/nmms_224940510.gif\\' alt=\\'네이버\\' title=\\'네이버\\' width=\\'210\\' height=\\'78\\' usemap=\\'#logo_ss\\' />\\n<map id=\\'logo_ss\\' name=\\'logo_ss\\'>\\n<area shape=\\'rect\\' coords=\\'0,0,209,78\\' alt=\\'네이버\\' href=\"http://www.naver.com/\" onclick=\"clickcr(this, \\'top.logo\\',\\'78000C01_0000000E7ED6\\', \\'\\', event)\"  />\\n</map>\\n</h1>\\n<hr />\\n<div id=\"search\">\\n\\n<form id=\"sform\" name=\"sform\" action=\"http://search.naver.com/search.naver\" method=\"get\">\\n\\n<fieldset>\\n<legend>검색</legend>\\n<select id=\"where\" name=\"where\" title=\"검색 범위 선택\" class=\"blind\">\\n<option value=\"nexearch\" selected=\"selected\">통합검색</option>\\n<option value=\"post\">블로그</option>\\n<option value=\"cafeblog\">카페</option>\\n<option value=\"cafe\">- 카페명</option>\\n<option value=\"article\">- 카페글</option>\\n<option value=\"kin\">지식iN</option>\\n<option value=\"news\">뉴스</option>\\n<option value=\"web\">사이트</option>\\n<option value=\"category\">- 카테고리</option>\\n<option value=\"site\">- 사이트</option>\\n<option value=\"movie\">영화</option>\\n<option value=\"webkr\">웹문서</option>\\n<option value=\"dic\">사전</option>\\n<option value=\"100\">- 백과사전</option>\\n<option value=\"endic\">- 영어사전</option>\\n<option value=\"eedic\">- 영영사전</option>\\n<option value=\"krdic\">- 국어사전</option>\\n<option value=\"jpdic\">- 일본어사전</option>\\n<option value=\"hanja\">- 한자사전</option>\\n<option value=\"terms\">- 용어사전</option>\\n<option value=\"book\">책</option>\\n<option value=\"music\">음악</option>\\n<option value=\"doc\">전문자료</option>\\n<option value=\"shop\">쇼핑</option>\\n<option value=\"local\">지역</option>\\n<option value=\"video\">동영상</option>\\n<option value=\"image\">이미지</option>\\n<option value=\"mypc\">내PC</option>\\n<optgroup label=\"스마트 파인더\">\\n<option value=\"movie\">영화</option>\\n<option value=\"auto\">자동차</option>\\n<option value=\"game\">게임</option>\\n<option value=\"health\">건강</option>\\n<option value=\"people\">인물</option>\\n</optgroup>\\n<optgroup label=\"네이버 랩\">\\n<option>긍정부정검색</option>\\n</optgroup>\\n</select>\\n<span class=\"green_window\"><input id=\"query\" name=\"query\" type=\"text\" title=\"검색어 입력\" class=\"input_text\" tabindex=\"1\" accesskey=\"s\" style=\"ime-mode:active;\" autocomplete=\"off\" onclick=\"document.getElementById(\\'fbm\\').value=1;\"  /></span><button id=\"search_btn\" type=\"submit\" title=\"검색\" tabindex=\"3\" class=\"sch_smit\" onmouseover=\"this.className=\\'sch_smit over\\'\" onmousedown=\"this.className=\\'sch_smit down\\'\" onmouseout=\"this.className=\\'sch_smit\\'\"><span class=\"ir\">검색</span></button>\\n<input type=\"hidden\" id=\"sm\" name=\"sm\" value=\"top_hty\" />\\n<input type=\"hidden\" id=\"fbm\" name=\"fbm\" value=\"0\" />\\n<input type=\"hidden\" id=\"acr\" name=\"acr\" value=\"\" disabled=\"disabled\" />\\n<input type=\"hidden\" id=\"acq\" name=\"acq\" value=\"\" disabled=\"disabled\" />\\n<input type=\"hidden\" id=\"qdt\" name=\"qdt\" value=\"\" disabled=\"disabled\" />\\n<input type=\"hidden\" id=\"ie\" name=\"ie\" value=\"utf8\" />\\n<input type=\"hidden\" id=\"acir\" name=\"acir\" value=\"\" disabled=\"disabled\" />\\n<input type=\"hidden\" id=\"os\" name=\"os\" value=\"\" disabled=\"disabled\" />\\n<input type=\"hidden\" id=\"bid\" name=\"bid\" value=\"\" disabled=\"disabled\" />\\n<input type=\"hidden\" id=\"pkid\" name=\"pkid\" value=\"\" disabled=\"disabled\" />\\n<input type=\"hidden\" id=\"eid\" name=\"eid\" value=\"\" disabled=\"disabled\" />\\n<input type=\"hidden\" id=\"mra\" name=\"mra\" value=\"\" disabled=\"disabled\" />\\n</fieldset>\\n</form>\\n<div id=\"nautocomplete\" class=\"autocomplete\">\\n<span class=\"btn_arw top\"><a href=\"#\" onclick=\"return false;\" tabindex=\"2\"><img src=\"http://sstatic.naver.com/search/images11/btn_atcmp_down_on.gif\" width=\"13\" height=\"11\" title=\"자동완성 펼치기\" alt=\"자동완성 펼치기\" class=\"triangleImg\" /></a></span>\\n</div>\\n<div id=\"autoFrame\" class=\"reatcmp\" style=\"width:368px;background-color:rgb(255, 255, 255);display:none;\">\\n<div class=\"api_atcmp_wrap _atcmp\" style=\"display:none;\">\\n<div class=\"words nature\">\\n<h3 class=\"tit\">생각한대로 검색해 보세요 <span class=\"beta\">Beta</span></h3>\\n<ul class=\"_nature\">\\n<li class=\"_item\"><a href=\"#\" onclick=\"return false;\">@txt@</a><span style=\"display:none\" id=\"rank@rank@\">@txt@</span></li>\\n</ul>\\n</div>\\n<div class=\"words _words\">\\n<div class=\"_atcmp_result_wrap\">\\n<ul class=\"_resultBox\"></ul>\\n<ul class=\"_resultBox\"></ul>\\n<ul class=\"_resultBox\"></ul>\\n<ul class=\"_resultBox\"></ul>\\n</div>\\n<div class=\"add_group _atcmp_answer_wrap\"></div>\\n</div>\\n<div class=\"atcmp_plus _plus\">\\n<span class=\"desc\">\\n<span class=\"plus_txt _plusTxt\"></span>\\n<a onclick=\"__atcmpCR(event, this, \\'plus.help\\', \\'\\',\\'\\',\\'\\');\" href=\"https://help.naver.com/support/contents/contents.nhn?serviceNo=606&categoryNo=16658\" target=\"_blank\" class=\"spat ico_info\"><span class=\"blind\">도움말 보기</span></a>\\n</span>\\n<span class=\"switch\">\\n<input type=\"checkbox\" id=\"plus_top\" class=\"blind plus_check\" onclick=\"if(this.checked){__atcmpCR(event, this, \\'plus.use\\', \\'\\',\\'\\',\\'\\');}else{__atcmpCR(event, this, \\'plus.unuse\\', \\'\\',\\'\\',\\'\\');}\">\\n<label for=\"plus_top\" class=\"spat plus_btn\">자동완성 플러스</label>\\n</span>\\n<div class=\"layer_plus _plusAlert\">\\n<strong class=\"tit\">컨텍스트 자동완성</strong>\\n<div class=\"_logout\" style=\"display: block;\">\\n<p class=\"dsc\"><em class=\"txt\">동일한 연령별/남녀별</em> 사용자 그룹의 관심사에<br>맞춰 자동완성을 제공합니다.</p>\\n<div class=\"btn_area\">\\n<a onclick=\"__atcmpCR(event, this, \\'plus.login\\', \\'\\',\\'\\',\\'\\');\" href=\"https://nid.naver.com/nidlogin.login\" class=\"btn btn_login\">로그인</a>\\n<a onclick=\"__atcmpCR(event, this, \\'plus.detail\\', \\'\\',\\'\\',\\'\\');\" href=\"https://help.naver.com/support/contents/contents.nhn?serviceNo=606&categoryNo=16658\" target=\"_blank\" class=\"btn btn_view\">자세히</a>\\n</div>\\n</div>\\n<div class=\"_login\" style=\"display: none;\">\\n<p class=\"dsc\">ON/OFF설정은<br>해당 기기(브라우저)에 저장됩니다.</p>\\n<div class=\"btn_area\">\\n<a onclick=\"__atcmpCR(event, this, \\'plus.detail\\', \\'\\',\\'\\',\\'\\');\" href=\"https://help.naver.com/support/contents/contents.nhn?serviceNo=606&categoryNo=16659\" target=\"_blank\" class=\"btn btn_view\">자세히</a>\\n</div>\\n</div>\\n<button type=\"button\" class=\"btn_close _close\" onclick=\"__atcmpCR(event, this, \\'plus.close\\', \\'\\',\\'\\',\\'\\');\">\\n<i class=\"spat ico_close\">컨텍스트 자동완성 레이어 닫기</i>\\n</button>\\n</div>\\n</div>\\n<p class=\"func\"><span class=\"fl\"><a onclick=\"__atcmpCR(event, this, \\'help\\', \\'\\',\\'\\',\\'\\');\" href=\"https://help.naver.com/support/service/main.nhn?serviceNo=606&categoryNo=1987\" target=\"_blank\">도움말</a> | <a onclick=\"__atcmpCR(event, this, \\'report\\', \\'\\',\\'\\',\\'\\');\" href=\"https://help.naver.com/support/contents/contents.nhn?serviceNo=606&categoryNo=2028\" target=\"_blank\">신고</a></span><span><em><a class=\"hisoff\" href=\"javascript:;\">검색어저장 켜기</a> |</em><a class=\"funoff\" href=\"javascript:;\">자동완성 끄기</a></span></p>\\n<img src=\"https://ssl.pstatic.net/sstatic/search/images11/img_atcmp15.gif\" alt=\"기능을 다시 켤 때는 펼치기 버튼을 클릭하세요\" width=\"218\" height=\"23\" class=\"help _help_tooltip1\" style=\"display:none;\"/>\\n</div>\\n<div class=\"api_atcmp_wrap _atcmpIng\" style=\"display:none;\">\\n<div class=\"words\"><p class=\"msg\">현재 자동완성 기능을 사용하고 계십니다.</p></div>\\n<p class=\"func\"><span class=\"fl\"><a onclick=\"__atcmpCR(event, this, \\'help\\', \\'\\',\\'\\',\\'\\');\" href=\"https://help.naver.com/support/service/main.nhn?serviceNo=606&categoryNo=1987\" target=\"_blank\">도움말</a> | <a onclick=\"__atcmpCR(event, this, \\'report\\', \\'\\',\\'\\',\\'\\');\" href=\"https://help.naver.com/support/contents/contents.nhn?serviceNo=606&categoryNo=2028\" target=\"_blank\">신고</a></span><span><em><a class=\"hisoff\" href=\"javascript:;\">검색어저장 켜기</a> |</em><a class=\"funoff\" href=\"javascript:;\">자동완성 끄기</a></span></p>\\n<img src=\"https://ssl.pstatic.net/sstatic/search/images11/img_atcmp15.gif\" alt=\"기능을 다시 켤 때는 펼치기 버튼을 클릭하세요\" width=\"218\" height=\"23\" class=\"help _help_tooltip2\" style=\"display:none;\"/>\\n</div>\\n<div class=\"api_atcmp_wrap _atcmpStart\" style=\"display:none;\">\\n<div class=\"words\"><p class=\"msg\">자동완성 기능이 활성화되었습니다.</p></div>\\n<p class=\"func\"><span class=\"fl\"><a onclick=\"__atcmpCR(event, this, \\'help\\', \\'\\',\\'\\',\\'\\');\" href=\"https://help.naver.com/support/service/main.nhn?serviceNo=606&categoryNo=1987\" target=\"_blank\">도움말</a> | <a onclick=\"__atcmpCR(event, this, \\'report\\', \\'\\',\\'\\',\\'\\');\" href=\"https://help.naver.com/support/contents/contents.nhn?serviceNo=606&categoryNo=2028\" target=\"_blank\">신고</a></span><span><em><a class=\"hisoff\" href=\"javascript:;\">검색어저장 켜기</a> |</em><a class=\"funoff\" href=\"javascript:;\">자동완성 끄기</a></span></p>\\n<img src=\"https://ssl.pstatic.net/sstatic/search/images11/img_atcmp15.gif\" alt=\"기능을 다시 켤 때는 펼치기 버튼을 클릭하세요\" width=\"218\" height=\"23\" class=\"help _help_tooltip3\" style=\"display:none;\"/>\\n</div>\\n<div class=\"api_atcmp_wrap _atcmpOff\" style=\"display:none;\">\\n<div class=\"words\"><p class=\"msg\">자동완성 기능이 꺼져 있습니다.</p></div>\\n<p class=\"func\"><span class=\"fl\"><a onclick=\"__atcmpCR(event, this, \\'help\\', \\'\\',\\'\\',\\'\\');\" href=\"https://help.naver.com/support/service/main.nhn?serviceNo=606&categoryNo=1987\" target=\"_blank\">도움말</a> | <a onclick=\"__atcmpCR(event, this, \\'report\\', \\'\\',\\'\\',\\'\\');\" href=\"https://help.naver.com/support/contents/contents.nhn?serviceNo=606&categoryNo=2028\" target=\"_blank\">신고</a></span><span><em><a class=\"hisoff\" href=\"javascript:;\">검색어저장 켜기</a> |</em><a class=\"funoff\" href=\"javascript:;\">자동완성 켜기</a></span></p>\\n</div>\\n<div class=\"api_atcmp_wrap _keywords\" style=\"display:none;\">\\n<div class=\"my_words\">\\n<div class=\"lst_tab\">\\n<ul><li class=\"on _recentTab\"><a href=\"javascript:;\">최근검색어</a></li><li class=\"_myTab\"><a href=\"javascript:;\">내 검색어</a></li></ul>\\n</div>\\n<div class=\"words _recent\">\\n<ul><li data-rank=\"@rank@\"><a class=\"t@my@ _myBtn\" title=\"내 검색어 등록\" href=\"javascript:;\">내 검색어 등록</a><a href=\"javascript:;\">@txt@</a><em class=\"date\">@date@.</em><a href=\"javascript:;\" class=\"btn_del _del\" title=\"검색어삭제\">삭제</a><span style=\"display:none\">@in_txt@</span></li></ul>\\n<div class=\"info_words _recentNone\" style=\"display:none\">최근검색어 내역이 없습니다.</div>\\n<p class=\"msg _offMsg\" style=\"display:none\">검색어 저장 기능이 꺼져 있습니다.</p>\\n</div>\\n<div class=\"words _my\" style=\"display:none\">\\n<ul><li data-rank=\"@rank@\"><a class=\"ton _myBtn\" title=\"내 검색어 해제\" href=\"javascript:;\">내 검색어 해제</a><a href=\"javascript:;\">@txt@</a></li></ul>\\n<div class=\"info_words _myNone\" style=\"display:none\">설정된 내 검색어가 없습니다.<br />최근검색어에서 <span class=\"star\">내 검색어 등록</span>를 선택하여 자주 찾는 검색어를<br />내 검색어로 저장해 보세요.</div>\\n<p class=\"msg _offMsg\" style=\"display:none\">검색어 저장 기능이 꺼져 있습니다.</p>\\n</div>\\n<p class=\"noti _noti\" style=\"display:none\">공용 PC에서는 개인정보 보호를 위하여 반드시 로그아웃을 해 주세요.</p>\\n<p class=\"func _recentBtnGroup\"><span class=\"fl\"><a class=\"_delMode\" href=\"javascript:;\">기록 삭제</a></span><span><a class=\"_keywordOff\" href=\"javascript:;\">검색어저장 끄기</a> | <a class=\"_acOff\" href=\"javascript:;\">자동완성 끄기</a></span></p>\\n<p class=\"func _recentDelBtnGroup\" style=\"display:none\"><span class=\"fl\"><a class=\"_delAll\" href=\"javascript:;\" title=\"최근 검색어 기록을 모두 삭제합니다.\">기록 전체 삭제</a></span><span><a class=\"_delDone\" href=\"javascript:;\">완료</a></span></p>\\n<p class=\"func _myBtnGroup\" style=\"display:none\"><span class=\"fl\"><a class=\"_delAll\" href=\"javascript:;\" title=\"설정된 내 검색어를 모두 삭제합니다.\">기록 전체 삭제</a></span><span><a class=\"_keywordOff\" href=\"javascript:;\">검색어저장 끄기</a> | <a class=\"_acOff\" href=\"javascript:;\">자동완성 끄기</a></span></p>\\n<span class=\"help2 _help2\" style=\"display:none\">기능을 다시 켤 때는 펼치기 버튼을 클릭하세요</span>\\n<div class=\"ly_noti _maxLayer\" style=\"display:none\">\\n<span class=\"mask\"></span>\\n<p><span class=\"ico\"></span>내 검색어는 최대 <em>10</em>개 까지 저장할 수 있습니다.<br />추가하시려면 기존 내 검색어를 지워주세요. <a href=\"javascript:;\" class=\"btn_clse _close\">닫기</a></p>\\n</div>\\n</div>\\n</div>\\n<div class=\"api_atcmp_wrap _alert\" style=\"display:none;\">\\n<div class=\"api_atcmp_alert\">\\n<span class=\"ico\"></span>\\n<p class=\"dsc_txt\">제20대 국회의원선거 후보에 대해 4월13일 선거일까지 자동완성 기능이 제공되지 않습니다.\\n<a href=\"http://naver_diary.blog.me/220654539456\" onclick=\"clickcr(this,\\'sug.vote\\',\\'\\',\\'\\',event);\">자세히보기</a></p>\\n</div>\\n</div>\\n<iframe vspace=\"0\" hspace=\"0\" border=\"0\" style=\"display:none;display:block\\\\9;display:block\\\\0/;position:absolute;left:0;top:0;width:100%;height:100%;z-index:-1;\" title=\"빈 프레임\"></iframe>\\n</div>\\n<script type=\"text/template\" id=\"_atcmp_answer_0\">\\n<div class=\"add_opt _item\" data-sm=\"@2@\" data-keyword=\"@1@\" data-template_id=\"@0@\" data-acir=\"@rank@\" data-os=\"@8@\" data-bid=\"@9@\" data-eid=\"@3@\" data-pkid=\"@10@\" data-mra=\"@11@\" >\\n<a href=\"#\" class=\"opt_dsc\">\\n<span class=\"dsc_thmb\" style=\"@style7@\">@image7@</span>\\n<span class=\"dsc_group\">\\n<span class=\"dsc_cate\">@6@</span>\\n<strong class=\"dsc_word\">@1@</strong>\\n<span class=\"dsc_sub\" style=\"@style12@\">@12@</span>\\n</span>\\n</a>\\n</div>\\n</script>\\n<script type=\"text/template\" id=\"_atcmp_answer_2\">\\n<div class=\"add_opt _item\" data-sm=\"@2@\" data-keyword=\"@1@\" data-template_id=\"@0@\" data-acir=\"@rank@\">\\n<a href=\"javascript:;\" class=\"opt_localnum\">\\n<span class=\"opt_local\">@5@</span>\\n<span class=\"opt_num\">@6@</span>\\n</a>\\n</div>\\n</script>\\n<script type=\"text/template\" id=\"_atcmp_answer_3\">\\n<div class=\"add_opt _item\" data-sm=\"@2@\" data-keyword=\"@1@\" data-template_id=\"@0@\" data-acir=\"@rank@\">\\n<a href=\"javascript:;\" class=\"opt_lotto\">\\n<span class=\"lotto_num_area\">\\n<span class=\"spat lotto_num lotto_num@6@\">@6@</span><span class=\"spat lotto_num lotto_num@7@\">@7@</span><span class=\"spat lotto_num lotto_num@8@\">@8@</span><span class=\"spat lotto_num lotto_num@9@\">@9@</span><span class=\"spat lotto_num lotto_num@10@\">@10@</span><span class=\"spat lotto_num lotto_num@11@\">@11@</span><span class=\"spat lotto_bonus\">+</span><span class=\"spat lotto_num lotto_num@12@\">@12@</span>\\n</span>\\n<span class=\"lotto_sub\">@5@회차 (@13@.)</span>\\n</a>\\n</div>\\n</script>\\n<script type=\"text/template\" id=\"_atcmp_answer_9\">\\n<div class=\"add_opt _item\" data-sm=\"@2@\" data-keyword=\"@1@\" data-template_id=\"@0@\" data-acir=\"@rank@\">\\n<a href=\"javascript:;\" class=\"opt_exchange opt_exchange_@11@\">\\n<span class=\"opt_nation\">\\n<img src=\"https://ssl.pstatic.net/sstatic/keypage/lifesrch/exchange/ico_@12@1.gif\" alt=\"\" />\\n<span class=\"tx_nation\">@5@</span>\\n</span>\\n<span class=\"opt_amount\">\\n<span class=\"amount\"><strong>@6@</strong>원</span><span class=\"changes\">@10@ @8@ (@9@%)</span>\\n</span>\\n</a>\\n</div>\\n</script>\\n<script type=\"text/template\" id=\"_atcmp_answer_10\">\\n<div class=\"add_opt _item\" data-sm=\"@2@\" data-keyword=\"@1@\" data-template_id=\"@0@\" data-acir=\"@rank@\">\\n<a href=\"javascript:;\" class=\"opt_weather\">\\n<span class=\"opt_weather_thmb\">\\n<img src=\"https://ssl.pstatic.net/static/m/weather/2011/im/wt170_@6@.png\" width=\"50\" height=\"40\" alt=\"@7@\">\\n</span>\\n<span class=\"opt_weather_group\">\\n<span class=\"opt_weather_state\">@7@</span>\\n<span class=\"opt_weather_state\">기온 <em class=\"opt_deg\">@8@</em><span class=\"opt_unit\">℃</span></span>\\n<span class=\"opt_weather_state\">@9@ <em>@10@</em><span class=\"opt_unit\">@11@</span></span>\\n</span>\\n</a>\\n</div>\\n</script>\\n<script type=\"text/template\" id=\"_atcmp_answer_11\">\\n<div class=\"add_opt _item\" data-sm=\"@2@\" data-keyword=\"@1@\" data-template_id=\"@0@\" data-acir=\"@rank@\">\\n<a href=\"javascript:;\" class=\"opt_weather\">\\n<span class=\"opt_weather_thmb\">\\n<img src=\"https://ssl.pstatic.net/static/m/weather/2011/im/wt170_@6@.png\" width=\"50\" height=\"40\" alt=\"@7@\">\\n</span>\\n<span class=\"opt_weather_group\">\\n<span class=\"opt_weather_state\">@7@</span>\\n<span class=\"opt_weather_state\">기온 <em class=\"opt_deg\">@8@</em><span class=\"opt_unit\">℃</span></span>\\n<span class=\"opt_weather_state\">@9@ <em>@10@</em><span class=\"opt_unit\">@11@</span></span>\\n</span>\\n</a>\\n</div>\\n</script>\\n<script type=\"text/template\" id=\"_atcmp_answer_16\">\\n<div class=\"add_opt type_context _item\" data-sm=\"@2@\" data-keyword=\"@1@\" data-template_id=\"@0@\" data-acir=\"@rank@\">\\n<a href=\"#\" class=\"opt_context\">\\n<span class=\"opt_tit\"><strong>@keyword@</strong></span>\\n<span class=\"opt_sub\">(@type@)</span>\\n</a>\\n</div>\\n</script>\\n<script type=\"text/template\" id=\"_atcmp_answer_17\">\\n<div class=\"add_opt _item\" data-sm=\"@2@\" data-keyword=\"@1@\" data-template_id=\"@0@\" data-acir=\"@rank@\">\\n<a href=\"@5@\" target=\"_blank\" class=\"opt_shortcut\">\\n<span class=\"opt_url\">@display_link@</span>\\n<span class=\"opt_txt\">사이트로 바로 이동</span>\\n</a>\\n</div>\\n</script>\\n<script type=\"text/template\" id=\"_atcmp_answer_18\">\\n<div class=\"add_opt _item\" data-sm=\"@2@\" data-keyword=\"@5@\" data-template_id=\"@0@\" data-acir=\"@rank@\">\\n<a href=\"#\" class=\"opt_happysearch\">\\n<span class=\"opt_happy_tit\"><span class=\"spat\"></span>행복검색</span>\\n<span class=\"opt_happy_word\">@5@</span>\\n</a>\\n</div>\\n</script>\\n<script type=\"text/template\" id=\"_atcmp_answer_20\"></script>\\n<script type=\"text/template\" id=\"_atcmp_result_item_tpl\">\\n<li class=\"_item @url_class@\" data-acr=\"@rank@\">\\n<a href=\"#\" class=\"atcmp_keyword\" onclick=\"return false;\" title=\"\"><span class=\"atcmp_keyword_txt\">@txt@<span class=\"spat ic_expand\"></span></span></a>\\n<a href=\"@url@\" target=\"_blank\" class=\"mquick\">바로이동</a>\\n<span style=\"display:none\">@in_txt@</span>\\n</li>\\n</script>\\n<script type=\"text/template\" id=\"_atcmp_keyword_highlight_tpl\">\\n@mismatch_before@<strong>@match@</strong>@mismatch_after@\\n</script>\\n<script type=\"text/template\" id=\"_atcmp_keyword_partial_match_highlight_tpl\">\\n@mismatch_before@<strong>@match@</strong>@mismatch_after@\\n</script>\\n<div id=\"search_link\" class=\"search_link\">\\n<h3 class=\"sl_ico\"><span class=\"blind\">질문형 검색어</span></h3>\\n\\n\\n<div id=\"qu_txt\" class=\"qu_txt\">\\n<script type=\"text/javascript\">var qst_idx=2; var qst_size=3;</script>\\n<span><a href=\"http://search.naver.com/search.naver?sm=top_txt&amp;where=nexearch&amp;ie=utf8&amp;query=%EC%9D%B4%EB%B2%88%EC%A3%BC%20%EC%A0%84%EA%B5%AD%20%EB%82%A0%EC%94%A8\" onclick=\"clickcr(this, \\'txt.search\\',\\'78002101_0000000E93A2\\', \\'\\', event, 1);\"  title=\"이번주 전국 날씨\">이번주 전국 날씨</a></span>\\n<span class=\"e\"><a href=\"http://search.naver.com/search.naver?sm=top_txt&amp;where=nexearch&amp;ie=utf8&amp;query=%EC%95%84%EB%B3%B4%EC%B9%B4%EB%8F%84%20%ED%9A%A8%EB%8A%A5\" onclick=\"clickcr(this, \\'txt.search\\',\\'78002101_0000000E93A3\\', \\'\\', event, 1);\"  title=\"아보카도 효능\">아보카도 효능</a></span>\\n<span class=\"e\"><a href=\"http://navercast.naver.com/list.nhn?cid=77&amp;category_id=77&amp;category_type=series&amp;sort=hits&amp;list_type=image&amp;query=%EC%9D%B8%EB%AC%BC%EC%9D%84%20%ED%86%B5%ED%95%B4%20%EB%B3%B4%EB%8A%94%20%ED%95%9C%EA%B5%AD%EC%82%AC&amp;sm=top_txt\" onclick=\"clickcr(this, \\'txt.search\\',\\'78002101_0000000E93A4\\', \\'\\', event, 1);\"  title=\"인물을 통해 보는 한국사\">인물을 통해 보는 한국사</a></span>\\n</div>\\n<div class=\"page\" >\\n<span class=\"slkpage_num\"></span>\\n<a id=\"qst_prev\" href=\"#\" title=\"이전 검색어\" class=\"pre\"><span class=\"blind\">이전 검색어</span></a>\\n<a id=\"qst_next\" href=\"#\" title=\"다음 검색어\" class=\"next\"><span class=\"blind\">다음 검색어</span></a>\\n</div>\\n\\n</div>\\n<!--NONE-->\\n</div>\\n<hr />\\n<div id=\"s_menu\" class=\"s_menu\">\\n<dl id=\"naver_menu\" class=\"nmenu\">\\n<dt class=\"blind\">네이버 메뉴</dt>\\n<dd class=\"f\"><a href=\"http://mail.naver.com/\" id=\"svc.mail\" class=\"mn_mail\"><span></span>메일</a></dd>\\n<dd><a href=\"http://cafe.naver.com/\" id=\"svc.cafe\" class=\"mn_cafe\"><span></span>카페</a></dd>\\n<dd><a href=\"http://section.blog.naver.com/\" id=\"svc.blog\" class=\"mn_blog\"><span></span>블로그</a></dd>\\n<dd><a href=\"http://kin.naver.com/\" id=\"svc.kin\" class=\"mn_kin\"><span></span>지식iN</a></dd>\\n<dd><a href=\"http://shopping.naver.com/\" id=\"svc.shopping\" class=\"mn_shopping\"><span></span>쇼핑</a></dd>\\n<dd><a href=\"http://tvcast.naver.com/\" id=\"svc.tvcast\" class=\"mn_tvcast\"><span></span>TV캐스트</a></dd>\\n</dl>\\n<dl class=\"fmenu\" id=\"fmenu\">\\n<dt class=\"blind\">자주 쓰는 메뉴</dt>\\n<dd class=\"f\"><a href=\"http://dic.naver.com\" onclick=\"clickcr(this,\\'svc.defaultservice\\',\\'dic\\',\\'\\',event);\" title=\"사전\" class=\"mn_dic\"><span></span>사전</a></dd>\\n<dd><a href=\"http://news.naver.com\" onclick=\"clickcr(this,\\'svc.defaultservice\\',\\'news\\',\\'\\',event);\" title=\"뉴스\" class=\"mn_news\"><span></span>뉴스</a></dd>\\n<dd><a href=\"http://stock.naver.com\" onclick=\"clickcr(this,\\'svc.defaultservice\\',\\'stock\\',\\'\\',event);\" title=\"증권\" class=\"mn_stock\"><span></span>증권</a></dd>\\n<dd><a href=\"http://land.naver.com\" onclick=\"clickcr(this,\\'svc.defaultservice\\',\\'land\\',\\'\\',event);\" title=\"부동산\" class=\"mn_land\"><span></span>부동산</a></dd>\\n<dd><a href=\"http://map.naver.com\" onclick=\"clickcr(this,\\'svc.defaultservice\\',\\'map\\',\\'\\',event);\" title=\"지도\" class=\"mn_map\"><span></span>지도</a></dd>\\n<dd><a href=\"http://movie.naver.com\" onclick=\"clickcr(this,\\'svc.defaultservice\\',\\'movie\\',\\'\\',event);\" title=\"영화\" class=\"mn_movie\"><span></span>영화</a></dd>\\n<dd><a href=\"http://music.naver.com\" onclick=\"clickcr(this,\\'svc.defaultservice\\',\\'music\\',\\'\\',event);\" title=\"뮤직\" class=\"mn_music\"><span></span>뮤직</a></dd>\\n<dd><a href=\"http://book.naver.com\" onclick=\"clickcr(this,\\'svc.defaultservice\\',\\'book\\',\\'\\',event);\" title=\"책\" class=\"mn_book\"><span></span>책</a></dd>\\n<dd><a href=\"http://comic.naver.com\" onclick=\"clickcr(this,\\'svc.defaultservice\\',\\'comic\\',\\'\\',event);\" title=\"웹툰\" class=\"mn_comic\"><span></span>웹툰</a></dd>\\n\\n</dl>\\n<div id=\"hmenu\" class=\"hmenu\">\\n<dl>\\n<dt class=\"blind\">신규 서비스</dt>\\n<dd><a href=\"http://pay.naver.com/\" onclick=\"clickcr(this,\\'svc.defaultservice\\',\\'naverpay\\',\\'\\',event);\" title=\"NPay\" class=\"mn_npay\"><span></span>NPay</a></dd>\\n</dl>\\n<a href=\"#\" id=\"svcmore_h\" title=\"주요서비스 더보기\" class=\"svcm\"><span></span>더보기</a>\\n</div>\\n</div>\\n<div class=\"rankup\">\\n<dl id=\"ranklist\" class=\"ranklist\">\\n<dt id=\"rankTitle\">실시간 급상승 검색어</dt>\\n<dd>\\n<ol style=\"margin-top:0px;\" id=\"realrank\">\\n\\n<li  value=\"1\" class=\"up\"><a href=\"http://search.naver.com/search.naver?where=nexearch&amp;query=%EB%AF%BC%EA%B2%BD%EC%9A%B1&amp;sm=top_lve&amp;ie=utf8\" title=\"민경욱\">민경욱<span class=\"tx\">상승</span><span class=\"ic\"></span><span class=\"rk\">435</span></a></li>\\n<li  value=\"2\" class=\"up\"><a href=\"http://search.naver.com/search.naver?where=nexearch&amp;query=%EC%9D%B4%EC%84%B8%EC%98%81&amp;sm=top_lve&amp;ie=utf8\" title=\"이세영\">이세영<span class=\"tx\">상승</span><span class=\"ic\"></span><span class=\"rk\">72</span></a></li>\\n<li  value=\"3\" class=\"up\"><a href=\"http://search.naver.com/search.naver?where=nexearch&amp;query=%EA%B5%AD%EC%A0%95%EA%B5%90%EA%B3%BC%EC%84%9C&amp;sm=top_lve&amp;ie=utf8\" title=\"국정교과서\">국정교과서<span class=\"tx\">상승</span><span class=\"ic\"></span><span class=\"rk\">141</span></a></li>\\n<li  value=\"4\" class=\"up\"><a href=\"http://search.naver.com/search.naver?where=nexearch&amp;query=%EB%89%B4%EB%9D%BC%EC%9D%B4%ED%8A%B8&amp;sm=top_lve&amp;ie=utf8\" title=\"뉴라이트\">뉴라이트<span class=\"tx\">상승</span><span class=\"ic\"></span><span class=\"rk\">594</span></a></li>\\n<li  value=\"5\" class=\"up\"><a href=\"http://search.naver.com/search.naver?where=nexearch&amp;query=sh%EA%B3%B5%EC%82%AC&amp;sm=top_lve&amp;ie=utf8\" title=\"sh공사\">sh공사<span class=\"tx\">상승</span><span class=\"ic\"></span><span class=\"rk\">255</span></a></li>\\n<li  value=\"6\" class=\"up\"><a href=\"http://search.naver.com/search.naver?where=nexearch&amp;query=%EC%A7%80%EC%BD%94&amp;sm=top_lve&amp;ie=utf8\" title=\"지코\">지코<span class=\"tx\">상승</span><span class=\"ic\"></span><span class=\"rk\">111</span></a></li>\\n<li  value=\"7\" class=\"up\"><a href=\"http://search.naver.com/search.naver?where=nexearch&amp;query=%EB%AF%B8%EC%84%B8%EB%A8%BC%EC%A7%80&amp;sm=top_lve&amp;ie=utf8\" title=\"미세먼지\">미세먼지<span class=\"tx\">상승</span><span class=\"ic\"></span><span class=\"rk\">72</span></a></li>\\n<li  value=\"8\" class=\"up\"><a href=\"http://search.naver.com/search.naver?where=nexearch&amp;query=%EC%83%A4%EB%84%8C&amp;sm=top_lve&amp;ie=utf8\" title=\"샤넌\">샤넌<span class=\"tx\">상승</span><span class=\"ic\"></span><span class=\"rk\">105</span></a></li>\\n<li  value=\"9\" class=\"up\"><a href=\"http://search.naver.com/search.naver?where=nexearch&amp;query=%EC%B5%9C%EB%AF%BC%EC%9A%A9&amp;sm=top_lve&amp;ie=utf8\" title=\"최민용\">최민용<span class=\"tx\">상승</span><span class=\"ic\"></span><span class=\"rk\">126</span></a></li>\\n<li  value=\"10\" class=\"up\"><a href=\"http://search.naver.com/search.naver?where=nexearch&amp;query=%EC%9C%A0%EC%95%84%EC%9D%B8&amp;sm=top_lve&amp;ie=utf8\" title=\"유아인\">유아인<span class=\"tx\">상승</span><span class=\"ic\"></span><span class=\"rk\">90</span></a></li>\\n<li id=\"lastrank\" value=\"1\" class=\"up\"><a href=\"http://search.naver.com/search.naver?where=nexearch&amp;query=%EB%AF%BC%EA%B2%BD%EC%9A%B1&amp;sm=top_lve&amp;ie=utf8\" title=\"민경욱\">민경욱<span class=\"tx\">상승</span><span class=\"ic\"></span><span class=\"rk\">435</span></a></li>\\n\\n</ol>\\n<noscript>\\n<form action=\"http://search.naver.com/search.naver\">\\n<input type=\"hidden\" name=\"where\" value=\"nexearch\" />\\n<select name=\"query\">\\n<option value=\"민경욱\">1위: 민경욱</option>\\n<option value=\"이세영\">2위: 이세영</option>\\n<option value=\"국정교과서\">3위: 국정교과서</option>\\n<option value=\"뉴라이트\">4위: 뉴라이트</option>\\n<option value=\"sh공사\">5위: sh공사</option>\\n<option value=\"지코\">6위: 지코</option>\\n<option value=\"미세먼지\">7위: 미세먼지</option>\\n<option value=\"샤넌\">8위: 샤넌</option>\\n<option value=\"최민용\">9위: 최민용</option>\\n<option value=\"유아인\">10위: 유아인</option>\\n</select>\\n<input type=\"hidden\" name=\"ie\" value=\"utf8\" />\\n<input type=\"submit\" value=\"검색\" />\\n</form>\\n</noscript>\\n</dd>\\n</dl>\\n</div>\\n</div>\\n</div>\\n<hr />\\n<div id=\"container\">\\n<div id=\"column_left\">\\n<div id=\"veta_top\">\\n<iframe id=\"da_iframe_time\" name=\"da_iframe_time\" src=\"http://nv1.veta.naver.com/dr?unit=002AN&tbsz=2&nrefreshx=0\" title=\"광고\" width=\"635\" height=\"120\" marginheight=\"0\" marginwidth=\"0\" scrolling=\"no\" frameborder=\"0\">광고 : <a href=\"http://nv1.veta.naver.com/dr?unit=002AN&tbsz=2&nrefreshx=0\">http://nv1.veta.naver.com/dr?unit=002AN&tbsz=2&nrefreshx=0</a></iframe>\\n<div class=\"veta_bdt\"></div><div class=\"veta_bdr\"></div><div class=\"veta_bdb\"></div><div class=\"veta_bdl\"></div>\\n</div>\\n<div id=\"news_cast2\" class=\"cast2\">\\n<div class=\"newscast_top\">\\n\\t<div class=\"cast_flash\">\\n\\t\\t<h3><a href=\"http://news.naver.com/main/list.nhn?mode=LPOD&amp;mid=sec&amp;sid1=001&amp;sid2=140&amp;oid=001&amp;isYeonhapFlash=Y\">연합뉴스</a></h3>\\n\\t\\t<div id=\"flash_news\" class=\"cast_atc2\">\\n\\t\\t\\t<ul>\\n<li><a href=\"http://news.naver.com/main/list.nhn?mode=LPOD&mid=sec&sid1=001&sid2=140&oid=001&isYeonhapFlash=Y&aid=0008852509\">국정 교과서 베일 벗었다…건국절 사관 등 논란 ...</a></li>\\n\\t\\t\\t</ul>\\n\\t\\t</div>\\n\\t</div>\\n\\t<ul class=\"cast_link\">\\n<li><a href=\"http://news.naver.com/\" onclick=\"clickcr(this, \\'ncy.newshome\\', \\'\\', \\'\\', event)\" style=\"color:#339900\"><strong>네이버뉴스</strong></a></li><li>|<a href=\"http://entertain.naver.com/home\" onclick=\"clickcr(this, \\'ncy.entertainment\\', \\'\\', \\'\\', event)\">연예</a></li><li>|<a href=\"http://sports.news.naver.com/\" onclick=\"clickcr(this, \\'ncy.sports\\', \\'\\', \\'\\', event)\">스포츠</a></li><li>|<a href=\"http://news.naver.com/main/main.nhn?mode=LSD&amp;mid=shm&amp;sid1=101\" onclick=\"clickcr(this, \\'ncy.economy\\', \\'\\', \\'\\', event)\">경제</a></li><li>|<a href=\"http://news.naver.com/main/ranking/popularDay.nhn?mid=etc&amp;sid1=111\" onclick=\"clickcr(this, \\'ncy.special2\\', \\'\\', \\'\\', event)\"><strong>랭킹</strong></a></li>\\n\\t</ul>\\n</div>\\n\\n\\n\\n\\n\\n\\n\\n\\n\\n\\n<div class=\"cast_cnt\">\\n\\t\\t<div class=\"cast_cnt_top\">\\n\\t\\t\\t<h2><a href=\"http://newsstand.naver.com/\" target=\"_blank\" onclick=\"clickcr(this,\\'nsd.title\\',\\'\\',\\'\\',event);\" id=\"news_h\" name=\"news_h\" class=\"h_news\">뉴스스탠드</a></h2>\\n\\t\\t\\t<div class=\"newss_sort\">\\n\\t\\t\\t\\t<a href=\"#\" id=\"press\" class=\"on\" onclick=\"clickcr(this,\\'nsd.all\\',\\'\\',\\'\\',event); return false;\">전체언론사</a>\\n\\t\\t\\t\\t<span class=\"bar\">|</span>\\n\\t\\t\\t\\t<a href=\"#\" id=\"my\"  onclick=\"clickcr(this,\\'nsd.my\\',\\'\\',\\'\\',event);return false;\">MY뉴스</a>\\n\\t\\t\\t</div>\\n\\n            <div class=\"newss_sort2\">\\n                <a href=\"#\" id=\"thumb\" title=\"매체보기\" class=\"sort_thumb on\">매체보기</a>\\n                <a href=\"#\" id=\"list\" title=\"기사보기\" class=\"sort_list \">기사보기</a>\\n            </div>\\n\\n\\t\\t\\t<div class=\"cast_type2\">\\n\\n\\t\\t\\t\\n\\n\\t\\t\\t\\n\\t\\t\\t\\t<div class=\"nctg\" data-mode=\"press\" >\\n\\t\\t\\t\\t\\t<a href=\"#\" class=\"btn_nctg\" onclick=\"return false;\">주요언론사</a>\\n\\t\\t\\t\\t\\t<ul class=\"cpress_lst hide\">\\n\\t\\t\\t\\t\\t\\t<li class=\"on\"><a href=\"#ct1\">주요언론사</a></li>\\n\\t\\t\\t\\t\\t\\t<li><a href=\"#ct2\">종합/경제</a></li>\\n\\t\\t\\t\\t\\t\\t<li><a href=\"#ct3\">방송/통신</a></li>\\n\\t\\t\\t\\t\\t\\t<li><a href=\"#ct4\">IT</a></li>\\n\\t\\t\\t\\t\\t\\t<li><a href=\"#ct5\">영자지</a></li>\\n\\t\\t\\t\\t\\t\\t<li><a href=\"#ct6\">스포츠/연예</a></li>\\n\\t\\t\\t\\t\\t\\t<li><a href=\"#ct7\">매거진/전문지</a></li>\\n\\t\\t\\t\\t\\t\\t<li><a href=\"#ct8\">지역</a></li>\\n\\t\\t\\t\\t\\t</ul>\\n\\t\\t\\t\\t</div>\\n\\t\\t\\t</div>\\n\\t\\t\\t<div class=\"news_rectype\" data-mode=\"my\"  style=\"display:none\">\\n\\t\\t\\t\\t<h3><a href=\"#\" onclick=\"return false;\">구독목록</a></h3>\\n\\t\\t\\t\\t<div class=\"ly_rectype\" style=\"display:none\">\\n\\t\\t\\t\\t\\t<div id=\"scroll9\">\\n\\t\\t\\t\\t\\t\\t<div class=\"scrollbar-box\">\\n\\t\\t\\t\\t\\t\\t\\t<div class=\"scrollbar-content\">\\n\\t\\t\\t\\t\\t\\t\\t\\t<ul class=\"rectype_lst\">\\n\\t\\t\\t\\t\\t\\t\\t\\t</ul>\\n\\t\\t\\t\\t\\t\\t\\t</div>\\n\\t\\t\\t\\t\\t\\t</div>\\n\\t\\t\\t\\t\\t\\t<div class=\"scrollbar-v scrollbar-show\">\\n\\t\\t\\t\\t\\t\\t\\t<div class=\"scrollbar-button-up rollover\"></div>\\n\\t\\t\\t\\t\\t\\t\\t<div class=\"scrollbar-track\" style=\"height:110px\">\\n\\t\\t\\t\\t\\t\\t\\t\\t<div class=\"scrollbar-thumb rollover\" style=\"top:0;height:50px\"><img src=\"http://img.naver.net/static/w9/blank.gif\" width=\"1\" height=\"1\" alt=\"\" class=\"scrollbar-thumb-body\" style=\"height:48px\"></div>\\n\\t\\t\\t\\t\\t\\t\\t</div>\\n\\t\\t\\t\\t\\t\\t\\t<div class=\"scrollbar-button-down rollover\"></div>\\n\\t\\t\\t\\t\\t\\t</div>\\n\\t\\t\\t\\t\\t</div>\\n\\t\\t\\t\\t</div>\\n\\t\\t\\t</div>\\n\\t\\t</div>\\n\\t\\t<div class=\"cast2_article \">\\n\\t\\t\\t<div id=\"news_contents\" class=\"flick-view\">\\n\\t\\t\\t\\t<div class=\"flick-container\" style=\"position:relative;height:171px\">\\n\\t\\t\\t\\t\\t<div class=\"flick-panel\" style=\"position:absolute;top:0;left:0;width:100%;height:100%\">\\n\\t\\t\\t\\t\\t\\n\\t\\t\\t\\t\\t\\t<h3 class=\"blind\">전체언론사</h3>\\n\\t\\t\\t\\t\\t\\t<div class=\"newss_lst\">\\n\\t\\t\\t\\t\\t\\t\\t<!-- [D] : 이동시 left값 -552px 씩 증가 -->\\n\\t\\t\\t\\t\\t\\t\\t<div class=\"newss\" style=\"left:0\">\\n\\t\\t\\t\\t\\t\\t\\t\\t<ul>\\n\\t\\t\\t\\t\\t\\t\\t\\n<li id=\"NS_076\"><a href=\"http://newsstand.naver.com/?list=ct1&pcode=076\" target=\"_blank\" class=\"newssa\"><img src=\"http://img.naver.net/static/newsstand/up/2014/0715/076.gif\" alt=\"스포츠조선\" /></a>\\n</li>\\n<li id=\"NS_040\"><a href=\"http://newsstand.naver.com/?list=ct1&pcode=040\" target=\"_blank\" class=\"newssa\"><img src=\"http://img.naver.net/static/newsstand/up/2014/0715/040.gif\" alt=\"코리아타임스\" /></a>\\n</li>\\n<li id=\"NS_029\"><a href=\"http://newsstand.naver.com/?list=ct1&pcode=029\" target=\"_blank\" class=\"newssa\"><img src=\"http://img.naver.net/static/newsstand/up/2014/0715/029.gif\" alt=\"디지털타임스\" /></a>\\n</li>\\n<li id=\"NS_079\"><a href=\"http://newsstand.naver.com/?list=ct1&pcode=079\" target=\"_blank\" class=\"newssa\"><img src=\"http://img.naver.net/static/newsstand/up/2014/0715/079.gif\" alt=\"노컷뉴스\" /></a>\\n</li>\\n<li id=\"NS_011\"><a href=\"http://newsstand.naver.com/?list=ct1&pcode=011\" target=\"_blank\" class=\"newssa\"><img src=\"http://img.naver.net/static/newsstand/up/2016/0412/nsd1893370.png\" alt=\"서울경제\" /></a>\\n</li>\\n<li id=\"NS_014\"><a href=\"http://newsstand.naver.com/?list=ct1&pcode=014\" target=\"_blank\" class=\"newssa\"><img src=\"http://img.naver.net/static/newsstand/up/2014/0715/014.gif\" alt=\"파이낸셜뉴스\" /></a>\\n</li>\\n<li id=\"NS_021\"><a href=\"http://newsstand.naver.com/?list=ct1&pcode=021\" target=\"_blank\" class=\"newssa\"><img src=\"http://img.naver.net/static/newsstand/up/2014/0715/021.gif\" alt=\"석간 문화일보\" /></a>\\n</li>\\n<li id=\"NS_081\"><a href=\"http://newsstand.naver.com/?list=ct1&pcode=081\" target=\"_blank\" class=\"newssa\"><img src=\"http://img.naver.net/static/newsstand/up/2015/1014/nsd102758325.png\" alt=\"서울신문\" /></a>\\n</li>\\n<li id=\"NS_003\"><a href=\"http://newsstand.naver.com/?list=ct1&pcode=003\" target=\"_blank\" class=\"newssa\"><img src=\"http://img.naver.net/static/newsstand/up/2015/0303/nsd152544150.gif\" alt=\"뉴시스\" /></a>\\n</li>\\n<li id=\"NS_038\"><a href=\"http://newsstand.naver.com/?list=ct1&pcode=038\" target=\"_blank\" class=\"newssa\"><img src=\"http://img.naver.net/static/newsstand/up/2015/0612/nsd144254191.gif\" alt=\"한국일보\" /></a>\\n</li>\\n<li id=\"NS_002\"><a href=\"http://newsstand.naver.com/?list=ct1&pcode=002\" target=\"_blank\" class=\"newssa\"><img src=\"http://img.naver.net/static/newsstand/up/2014/0715/002.gif\" alt=\"프레시안\" /></a>\\n</li>\\n<li id=\"NS_022\"><a href=\"http://newsstand.naver.com/?list=ct1&pcode=022\" target=\"_blank\" class=\"newssa\"><img src=\"http://img.naver.net/static/newsstand/up/2014/0715/022.gif\" alt=\"세계일보\" /></a>\\n</li>\\n\\t\\t\\t\\t\\t\\t\\t\\t</ul>\\n\\t\\t\\t\\t\\t\\t\\t</div>\\n\\t\\t\\t\\t\\t\\t</div>\\n\\t\\t\\t\\t\\t\\n\\t\\t\\t\\t\\t</div>\\n\\t\\t\\t\\t</div>\\n\\t\\t\\t\\t\\n\\t\\t\\t</div>\\n\\n\\t\\t\\t<div class=\"newss_ft\">\\n                <a href=\"http://newsstand.naver.com/config.html\" class=\"mm_set\" target=\"_blank\" onclick=\"clickcr(this,\\'nsd.set\\',\\'\\',\\'\\',event);\"><span></span>구독설정</a>\\n<!--\\n                <span class=\"bar\">|</span>\\n\\t\\t\\t\\t\\n\\t\\t\\t\\t\\t<a href=\"http://news.naver.com/main/ombudsman/readView.nhn?notiId=320&notiDel=N\" target=\"_blank\" class=\"mm_noti\">[알림] 언론사별 주요뉴스를 메인에서 바로 볼 수 있어요!</a>\\n\\t\\t\\t\\t\\t\\n-->\\n            </div>\\t\\n\\t\\t\\t\\n\\t\\t\\t<div class=\"cpg nss_pg\" data-mode=\"press\" >\\n\\t\\t\\t\\t<span>\\n\\t\\t\\t\\t<span></span>\\n\\t\\t\\t\\t</span>\\n\\t\\t\\t\\t<a href=\"#ns_prev\" class=\"pre\" title=\"이전페이지\" onclick=\"return false;\">이전페이지</a><a href=\"#ns_next\" class=\"next\" title=\"다음페이지\">다음페이지</a>\\n\\t\\t\\t</div>\\n\\n\\t\\t\\t<div class=\"cpg nss_pg\" data-mode=\"my\"  style=\"display:none\">\\n\\t\\t\\t\\t<span>\\n\\t\\t\\t\\t<span></span>\\n\\t\\t\\t\\t</span>\\n\\t\\t\\t\\t<a href=\"#ns_prev\" class=\"pre\" title=\"이전페이지\" onclick=\"return false;\">이전페이지</a><a href=\"#ns_next\" class=\"next\" title=\"다음페이지\">다음페이지</a>\\n\\t\\t\\t</div>\\n\\n\\t\\t</div>\\n\\t</div>\\n</div>\\n\\n</div>\\n<div id=\"column_right\">\\n\\n<div id=\"account\">\\n<h2 class=\"blind\"><a href=\"#account_h\" id=\"account_h\" name=\"account_h\">로그인</a></h2>\\n\\n\\n\\n\\n<div id=\"loginframe\" class=\"login vis\">\\n\\n\\t<div class=\"button_login login_eng\">\\n\\t\\t<div class=\"bl_inner\">\\n\\t\\t\\t<div class=\"bl_rolling\">\\n\\t\\t\\t\\t<ul style=\"margin-top:0\">\\n\\t\\t\\t\\t\\t<li>Connect with people</li>\\n\\t\\t\\t\\t</ul>\\n\\t\\t\\t</div>\\n\\t\\t\\t<a onclick=\"clickcr(this,\\'log_off.pad\\',\\'\\',\\'\\',event);\" href=\"https://nid.naver.com/nidlogin.login?url=http%3A%2F%2Fwww.naver.com?mobile\" class=\"bl_btn\">NAVER Sign in</a>\\n\\t\\t\\t<span class=\"acc_find\">Forgot <a onclick=\"clickcr(this,\\'log_off.searchid\\',\\'\\',\\'\\',event);\" href=\"https://nid.naver.com/user/help.nhn?todo=idinquiry\">Username</a> or <a onclick=\"clickcr(this,\\'log_off.searchpass\\',\\'\\',\\'\\',event);\" href=\"https://nid.naver.com/nidreminder.form\">Password?</a> <span class=\"bar\">|</span> <a onclick=\"clickcr(this,\\'log_off.registration\\',\\'\\',\\'\\',event);\" href=\"https://nid.naver.com/nidregister.form?url=http%3A%2F%2Fwww.naver.com\">Sign up</a> </span>\\n\\t\\t</div>\\n\\t</div>\\n\\n</div>\\n\\n</div>\\n\\n<div id=\"ie55\" style=\"display:none;\"></div>\\n<div id=\"ad_branding_hide\"></div>\\n<div id=\"veta_timesquare\" class=\"ad_area2\" style=\"display:none;\">\\n<iframe id=\"IDHERE2\" src=\"http://nv.veta.naver.com/dr?unit=002AT&da_dom_id=veta_timesquare\" title=\"광고\" width=\"300\" height=\"159\" marginheight=\"0\" marginwidth=\"0\" scrolling=\"no\" frameborder=\"0\"></iframe>\\n</div>\\n<div id=\"time_square\" class=\"logff\">\\n<h2 class=\"blind\"><a href=\"#time_h\" id=\"time_h\" name=\"time_h\">타임스퀘어</a></h2>\\n<div id=\"promotion6\" class=\"hide\">\\n<p id=\"promotion6Link\">\\n<a  href=\"http://www.vlive.tv/video/17503\" onclick=\"clickcr(this, \\'squ.top\\', \\'7802DF01_0000000E939A\\', \\'\\', event, 1);\">\\n<img src=\"http://img.naver.net/static/www/u/2016/1123/nmms_135849755.jpg\" alt=\"B1A4\" width=\"298\" height=\"29\"/>\\n</a>\\n</p>\\n<div id=\"promotion6Close\" class=\"close\"><a title=\"닫기\" href=\"#\" onclick=\"clickcr(this, \\'squ.topclose\\',\\'7802DF01_0000000E939A\\', \\'\\', event, 1);\" >닫기</a></div>\\n</div>\\n<script type=\"text/javascript\">\\n//<![CDATA[\\nvar tsbCookieName = \"7802DF01_0000000E939A\";\\nvar tsbCookieExpDate = 30;\\nvar tsbOneTimeLink = 0;\\n//]]>\\n</script>\\n<div class=\"tsq\">\\n<h3 class=\"tsq_h\">투데이</h3>\\n<div class=\"tsq_status\">\\n<a href=\"http://calendar.naver.com\" class=\"date\" onclick=\"clickcr(this,\\'squ.date\\',\\'\\',\\'\\',event);\" title=\"캘린더이동\"><em>11.28.</em>(월)</a>\\n<span class=\"bar\">|</span>\\n<a href=\"http://finance.naver.com/\" class=\"qlink\">금융</a>\\n</div>\\n<div id=\"ws_tsq\" class=\"tsq_slide\">\\n<h4 class=\"blind\">경제</h4>\\n<div class=\"tsq_eco_wrap\">\\n<div class=\"tsq_stock\">\\n<ul>\\n<li>\\n<h5>코스피</h5>\\n<p>\\n<a href=\"http://finance.naver.com/sise/sise_index.nhn?code=KOSPI\" class=\"val\" onclick=\"clickcr(this,\\'stk.kospi\\',\\'\\',\\'\\',event);\">1981.82</a>\\n<span class=\"up\">\\n<span class=\"mk\">상승</span>\\n<em class=\"gap\">7.36</em>\\n</span>\\n</p>\\n</li>\\n<li>\\n<h5>코스닥</h5>\\n<p>\\n<a href=\"http://finance.naver.com/sise/sise_index.nhn?code=KOSDAQ\" class=\"val\" onclick=\"clickcr(this,\\'stk.kosdaq\\',\\'\\',\\'\\',event);\">595.63</a>\\n<span class=\"down\">\\n<span class=\"mk\">하락</span>\\n<em class=\"gap\">2.19</em>\\n</span>\\n</p>\\n</li>\\n</ul>\\n</div>\\n<ul class=\"tsq_list\">\\n<li>\\n<a href=\"http://finance.naver.com/\" onclick=\"clickcr(this, \\'squ.theme\\',\\'78005501_0000000E83F7\\', \\'\\', event)\"  class=\"tit\">증권</a>\\n<a href=\"http://finance.naver.com/news/\" onclick=\"clickcr(this, \\'squ.text\\',\\'78005501_0000000E83F6\\', \\'\\', event)\"  title=\"\\'안갯 속\\' 증시…남은 한 달 투자법은\">\\'안갯 속\\' 증시…남은 한 달 투자법은</a>\\n</li>\\n<li>\\n<a href=\"http://land.naver.com\" onclick=\"clickcr(this, \\'squ.theme\\',\\'78005501_0000000E83F9\\', \\'\\', event)\"  class=\"tit\">부동산</a>\\n<a href=\"http://land.naver.com/news/?prsco_id=079&amp;arti_id=0002899867\" onclick=\"clickcr(this, \\'squ.text\\',\\'78005501_0000000E83F8\\', \\'\\', event)\"  title=\"부동산 시장 \\'한파 엄습\\'…침체의 늪에\">부동산 시장 \\'한파 엄습\\'…침체의 늪에</a>\\n</li></ul>\\n</div>\\n</div>\\n<div class=\"cpg timesquare_pg\">\\n<span><strong>3</strong>/3</span>\\n<a href=\"#\" class=\"pre\" title=\"이전\">이전</a><a href=\"#\" class=\"next\" title=\"다음\">다음</a>\\n</div>\\n<div class=\"tsq_wg\">\\n<a href=\"#\" class=\"tsq_wg_open\" onclick=\"clickcr(this,\\'tsw.open\\',\\'\\',\\'\\',event);TimeSquare.Wiget.open();return false;\">생활위젯 레이어 열기</a>\\n<div class=\"ly_tsq_wg\" style=\"display:none\"></div>\\n</div>\\n</div>\\n</div>\\n<div id=\"veta_branding\">\\n<iframe id=\"da_iframe_rolling\" name=\"da_iframe_rolling\" src=\"http://nv2.veta.naver.com/dr?unit=002AP&nrefreshx=0\" title=\"광고\" width=\"300\" height=\"150\" marginheight=\"0\" marginwidth=\"0\" scrolling=\"no\" frameborder=\"0\">광고 : <a href=\"http://nv2.veta.naver.com/dr?unit=002AP&nrefreshx=0\">http://nv2.veta.naver.com/dr?unit=002AP&nrefreshx=0</a></iframe>\\n<div class=\"veta_bdt\"></div><div class=\"veta_bdr\"></div><div class=\"veta_bdb\"></div><div class=\"veta_bdl\"></div>\\n</div>\\n</div>\\n<!-- EMPTY -->\\n<div id=\"column_bottom\">\\n<div id=\"themecast\" class=\"cast3\">\\n<h2 class=\"blind\">주제형캐스트</h2>\\n<div id=\"themecast_cate\" class=\"s_cate\">\\n\\n <span class=\"tcc_lif\"><a data-code=\"tcc_lif\" href=\"#tcc_lif\"><span class=\"ir\">리빙</span></a></span> <span class=\"tcc_spo\"><a data-code=\"tcc_spo\" href=\"#tcc_spo\"><span class=\"ir\">스포츠</span></a></span> <span class=\"tcc_aut\"><a data-code=\"tcc_aut\" href=\"#tcc_aut\" class=\"on\"><span class=\"ir\">차/테크</span></a></span> <span class=\"tcc_bty\"><a data-code=\"tcc_bty\" href=\"#tcc_bty\"><span class=\"ir\">패션뷰티</span></a></span> <span class=\"tcc_web\"><a data-code=\"tcc_web\" href=\"#tcc_web\"><span class=\"ir\">웹툰</span></a></span> <span class=\"tcc_gam\"><a data-code=\"tcc_gam\" href=\"#tcc_gam\"><span class=\"ir\">게임</span></a></span> <span class=\"tcc_tvc\"><a data-code=\"tcc_tvc\" href=\"#tcc_tvc\"><span class=\"ir\">TV/연예</span></a></span> <span class=\"tcc_muc\"><a data-code=\"tcc_muc\" href=\"#tcc_muc\"><span class=\"ir\">뮤직</span></a></span> <span class=\"tcc_mov\"><a data-code=\"tcc_mov\" href=\"#tcc_mov\"><span class=\"ir\">영화</span></a></span> <span class=\"tcc_bok\"><a data-code=\"tcc_bok\" href=\"#tcc_bok\"><span class=\"ir\">책/문화</span></a></span> <span class=\"tcc_ncc\"><a data-code=\"tcc_ncc\" href=\"#tcc_ncc\"><span class=\"ir\">지식/교양</span></a></span> <span class=\"tcc_pub\"><a data-code=\"tcc_pub\" href=\"#tcc_pub\"><span class=\"ir\">공익/나눔</span></a></span> \\n\\n<span class=\"tcb_end\"></span>\\n</div>\\n<div class=\"flick-view\" id=\"themecast_contents\" style=\"position:relative;\">\\n<div class=\"flick-container\">\\n<div class=\"flick-panel\">\\n<div class=\"s_article\" data-rev=\"000000\">\\n<h3 class=\"blind\">차/테크</h3>\\n<div class=\"tc_lst_wrap\">\\n<ul class=\"tc_lst\">\\n<li class=\"type_a\" data-seq=\"236354\" >\\n<a href=\"http://post.naver.com/viewer/postView.nhn?volumeNo=5553596&amp;memberNo=21293282\"  onclick=\"return clickcr(this,\\'tcc_aut.special1\\',\\'7803E801_000000041797\\',\\'\\', event);\">\\n<span class=\"thumb\">\\n<img src=\"http://img.naver.net/static/www/mobile/edit/2016/1125/mobile_122247726148.jpg\" width=\"289\" height=\"149\" alt=\"아우디, 새로운 버추얼 대시보드 공개\">\\n<span class=\"mask\"></span>\\n<span class=\"mask2\"></span>\\n</span>\\n<span class=\"flex\">\\n<strong class=\"t\">아우디, 새로운 버추얼 대시보드 공개</strong></span>\\n</a>\\n</li>\\n<li class=\"copy\" data-seq=\"236357\" >\\n<a href=\"http://post.naver.com/viewer/postView.nhn?volumeNo=5551243&amp;memberNo=22197681\" class=\"copy_a\"  onclick=\"return clickcr(this,\\'tcc_aut.contents\\',\\'7803E801_00000004179A\\',\\'\\', event);\">\\n<span class=\"thumb\">\\n<img src=\"http://img.naver.net/static/www/mobile/edit/2016/1125/mobile_122621940153.jpg\" width=\"138\" height=\"82\" alt=\"스포츠 세단, 토요타 마크X\"><span class=\"mask\"></span>\\n</span>\\n<span class=\"t\">스포츠 세단, 토요타 마크X</span>\\n</a>\\n<span class=\"s\">\\n<span>모토야</span><span class=\"bar\"> | </span>\\n<span>세단</span></span>\\n</li><li class=\"copy\" data-seq=\"236544\" >\\n<a href=\"http://m.post.naver.com/viewer/postView.nhn?volumeNo=5562367&amp;memberNo=1834\" class=\"copy_a\"  onclick=\"return clickcr(this,\\'tcc_aut.contents\\',\\'7803E801_000000041855\\',\\'\\', event);\">\\n<span class=\"thumb\">\\n<img src=\"http://img.naver.net/static/www/mobile/edit/2016/1125/mobile_190403579302.jpg\" width=\"138\" height=\"82\" alt=\"블랙프라이데이, 할인 제품리스트!\"><span class=\"mask\"></span>\\n</span>\\n<span class=\"t\">블랙프라이데이, 할인 제품리스트!</span>\\n</a>\\n<span class=\"s\">\\n<span>세아향 </span><span class=\"bar\"> | </span>\\n<span>해외직구</span></span>\\n</li><li class=\"copy\" data-seq=\"236356\" >\\n<a href=\"http://post.naver.com/viewer/postView.nhn?volumeNo=5551896&amp;memberNo=32155686\" class=\"copy_a\"  onclick=\"return clickcr(this,\\'tcc_aut.contents\\',\\'7803E801_000000041799\\',\\'\\', event);\">\\n<span class=\"thumb\">\\n<img src=\"http://img.naver.net/static/www/mobile/edit/2016/1125/mobile_122439943113.jpg\" width=\"138\" height=\"82\" alt=\"다름을 강조하는 소형 SUV\"><span class=\"mask\"></span>\\n</span>\\n<span class=\"t\">다름을 강조하는 소형 SUV</span>\\n</a>\\n<span class=\"s\">\\n<span>라이드매거진</span><span class=\"bar\"> | </span>\\n<span>SUV</span></span>\\n</li><li class=\"copy\" data-seq=\"236548\" >\\n<a href=\"http://post.naver.com/viewer/postView.nhn?volumeNo=5487786&amp;memberNo=15460786\" class=\"copy_a\"  onclick=\"return clickcr(this,\\'tcc_aut.contents\\',\\'7803E801_000000041859\\',\\'\\', event);\">\\n<span class=\"thumb\">\\n<img src=\"http://img.naver.net/static/www/mobile/edit/2016/1125/mobile_190824553271.jpg\" width=\"138\" height=\"82\" alt=\"구글 픽셀 vs LG V20, 성능 비교 \"><span class=\"mask\"></span>\\n</span>\\n<span class=\"t\">구글 픽셀 vs LG V20, 성능 비교 </span>\\n</a>\\n<span class=\"s\">\\n<span>앱스토리</span><span class=\"bar\"> | </span>\\n<span>스마트폰</span></span>\\n</li><li class=\"copy\" data-seq=\"236574\" >\\n<a href=\"http://post.naver.com/viewer/postView.nhn?volumeNo=5560638&amp;memberNo=5931703\" class=\"copy_a\"  onclick=\"return clickcr(this,\\'tcc_aut.contents\\',\\'7803E801_000000041873\\',\\'\\', event);\">\\n<span class=\"thumb\">\\n<img src=\"http://img.naver.net/static/www/mobile/edit/2016/1125/mobile_193330508823.jpg\" width=\"138\" height=\"82\" alt=\"아이폰6s 자동꺼짐, 말 못하는 속내는?\"><span class=\"mask\"></span>\\n</span>\\n<span class=\"t\">아이폰6s 자동꺼짐, 말 못하는 속내는?</span>\\n</a>\\n<span class=\"s\">\\n<span>맥가이버</span><span class=\"bar\"> | </span>\\n<span>아이폰6s</span></span>\\n</li><li class=\"copy\" data-seq=\"236353\" >\\n<a href=\"http://post.naver.com/viewer/postView.nhn?volumeNo=5548524&amp;memberNo=11575417&amp;navigationType=push\" class=\"copy_a\"  onclick=\"return clickcr(this,\\'tcc_aut.contents\\',\\'7803E801_000000041796\\',\\'\\', event);\">\\n<span class=\"thumb\">\\n<img src=\"http://img.naver.net/static/www/mobile/edit/2016/1125/mobile_1220574012.jpg\" width=\"138\" height=\"82\" alt=\"럭셔리 SUV 마세라티 르반떼\"><span class=\"mask\"></span>\\n</span>\\n<span class=\"t\">럭셔리 SUV 마세라티 르반떼</span>\\n</a>\\n<span class=\"s\">\\n<span>GEARBAX</span><span class=\"bar\"> | </span>\\n<span>테마</span></span>\\n</li><li class=\"copy\" data-seq=\"236555\" >\\n<a href=\"http://tvcast.naver.com/v/1263191\" class=\"copy_a\"  onclick=\"return clickcr(this,\\'tcc_aut.contents\\',\\'7803E801_000000041860\\',\\'\\', event);\">\\n<span class=\"thumb\">\\n<img src=\"http://img.naver.net/static/www/mobile/edit/2016/1125/mobile_191426673696.jpg\" width=\"138\" height=\"82\" alt=\"애플 맥북프로 터치 바, 이렇게 쓴다\"><span class=\"mask\"></span>\\n</span>\\n<span class=\"t\">애플 맥북프로 터치 바, 이렇게 쓴다</span>\\n</a>\\n<span class=\"s\">\\n<span>Cnet Korea</span><span class=\"bar\"> | </span>\\n<span>Mac</span></span>\\n</li><li class=\"copy\" data-seq=\"236352\" >\\n<a href=\"http://post.naver.com/viewer/postView.nhn?volumeNo=5549104&amp;memberNo=20218752\" class=\"copy_a\"  onclick=\"return clickcr(this,\\'tcc_aut.contents\\',\\'7803E801_000000041795\\',\\'\\', event);\">\\n<span class=\"thumb\">\\n<img src=\"http://img.naver.net/static/www/m/guide/dummy_1X1.jpg\" data-src=\"http://img.naver.net/static/www/mobile/edit/2016/1125/mobile_1219017909.jpg\" width=\"138\" height=\"82\" alt=\"대륙의 전기차, 니오 EP9\"><span class=\"mask\"></span>\\n</span>\\n<span class=\"t\">대륙의 전기차, 니오 EP9</span>\\n</a>\\n<span class=\"s\">\\n<span>모터리언</span><span class=\"bar\"> | </span>\\n<span>전기차</span></span>\\n</li><li class=\"copy\" data-seq=\"236351\" >\\n<a href=\"http://post.naver.com/viewer/postView.nhn?volumeNo=5547296&amp;memberNo=34218501\" class=\"copy_a\"  onclick=\"return clickcr(this,\\'tcc_aut.contents\\',\\'7803E801_000000041794\\',\\'\\', event);\">\\n<span class=\"thumb\">\\n<img src=\"http://img.naver.net/static/www/m/guide/dummy_1X1.jpg\" data-src=\"http://img.naver.net/static/www/mobile/edit/2016/1125/mobile_121645110482.jpg\" width=\"138\" height=\"82\" alt=\"부가티 시론에 관한 모든 것\"><span class=\"mask\"></span>\\n</span>\\n<span class=\"t\">부가티 시론에 관한 모든 것</span>\\n</a>\\n<span class=\"s\">\\n<span>에보 코리아</span><span class=\"bar\"> | </span>\\n<span>테마</span></span>\\n</li><li class=\"copy\" data-seq=\"236553\" >\\n<a href=\"http://post.naver.com/viewer/postView.nhn?volumeNo=4737414&amp;memberNo=29481007\" class=\"copy_a\"  onclick=\"return clickcr(this,\\'tcc_aut.contents\\',\\'7803E801_00000004185E\\',\\'\\', event);\">\\n<span class=\"thumb\">\\n<img src=\"http://img.naver.net/static/www/m/guide/dummy_1X1.jpg\" data-src=\"http://img.naver.net/static/www/mobile/edit/2016/1125/mobile_191306341577.jpg\" width=\"138\" height=\"82\" alt=\"맨손으로 VR용 기기 사용하기\"><span class=\"mask\"></span>\\n</span>\\n<span class=\"t\">맨손으로 VR용 기기 사용하기</span>\\n</a>\\n<span class=\"s\">\\n<span>VR연구소</span><span class=\"bar\"> | </span>\\n<span>VR</span></span>\\n</li><li class=\"copy\" data-seq=\"236350\" >\\n<a href=\"http://post.naver.com/viewer/postView.nhn?volumeNo=5550429&amp;memberNo=12121295\" class=\"copy_a\"  onclick=\"return clickcr(this,\\'tcc_aut.contents\\',\\'7803E801_000000041793\\',\\'\\', event);\">\\n<span class=\"thumb\">\\n<img src=\"http://img.naver.net/static/www/m/guide/dummy_1X1.jpg\" data-src=\"http://img.naver.net/static/www/mobile/edit/2016/1125/mobile_121440729828.jpg\" width=\"138\" height=\"82\" alt=\"기아차 시드의 새 모습\"><span class=\"mask\"></span>\\n</span>\\n<span class=\"t\">기아차 시드의 새 모습</span>\\n</a>\\n<span class=\"s\">\\n<span>모터그래프</span><span class=\"bar\"> | </span>\\n<span>테마</span></span>\\n</li><li class=\"copy\" data-seq=\"236549\" >\\n<a href=\"http://post.naver.com/viewer/postView.nhn?volumeNo=5544489&amp;memberNo=17316762\" class=\"copy_a\"  onclick=\"return clickcr(this,\\'tcc_aut.contents\\',\\'7803E801_00000004185A\\',\\'\\', event);\">\\n<span class=\"thumb\">\\n<img src=\"http://img.naver.net/static/www/m/guide/dummy_1X1.jpg\" data-src=\"http://img.naver.net/static/www/mobile/edit/2016/1125/mobile_190951410688.jpg\" width=\"138\" height=\"82\" alt=\"셀카봉 다음은 셀카용 드론?\"><span class=\"mask\"></span>\\n</span>\\n<span class=\"t\">셀카봉 다음은 셀카용 드론?</span>\\n</a>\\n<span class=\"s\">\\n<span>얼리어답터</span><span class=\"bar\"> | </span>\\n<span>드론</span></span>\\n</li><li class=\"copy\" data-seq=\"236564\" >\\n<a href=\"http://post.naver.com/viewer/postView.nhn?volumeNo=5530664\" class=\"copy_a\"  onclick=\"return clickcr(this,\\'tcc_aut.contents\\',\\'7803E801_000000041869\\',\\'\\', event);\">\\n<span class=\"thumb\">\\n<img src=\"http://img.naver.net/static/www/m/guide/dummy_1X1.jpg\" data-src=\"http://img.naver.net/static/www/mobile/edit/2016/1125/mobile_19235425764.jpg\" width=\"138\" height=\"82\" alt=\"LG 그램 2017 출시 예고\"><span class=\"mask\"></span>\\n</span>\\n<span class=\"t\">LG 그램 2017 출시 예고</span>\\n</a>\\n<span class=\"s\">\\n<span>비에르쥬</span><span class=\"bar\"> | </span>\\n<span>LG 그램</span></span>\\n</li><li class=\"copy\" data-seq=\"236349\" >\\n<a href=\"http://post.naver.com/viewer/postView.nhn?volumeNo=5553285&amp;memberNo=16519581\" class=\"copy_a\"  onclick=\"return clickcr(this,\\'tcc_aut.contents\\',\\'7803E801_000000041792\\',\\'\\', event);\">\\n<span class=\"thumb\">\\n<img src=\"http://img.naver.net/static/www/m/guide/dummy_1X1.jpg\" data-src=\"http://img.naver.net/static/www/mobile/edit/2016/1125/mobile_121321914457.jpg\" width=\"138\" height=\"82\" alt=\"디젤차, 2050년까지 건재 전망\"><span class=\"mask\"></span>\\n</span>\\n<span class=\"t\">디젤차, 2050년까지 건재 전망</span>\\n</a>\\n<span class=\"s\">\\n<span>데일리카</span><span class=\"bar\"> | </span>\\n<span>디젤차</span></span>\\n</li></ul>\\n</div>\\n<div class=\"tc_bottom\">\\n<a href=\"#\" class=\"tc_set\">선호주제설정</a>\\n<dl class=\"go_svc\">\\n<dt>주제별 더보기</dt>\\n<dd>\\n<a href=\"http://auto.naver.com/cmpr/cmprMain.nhn\" onclick=\"return clickcr(this,\\'tcc_aut.link\\',\\'\\',\\'\\', event);\"> 자동차 비교</a><a href=\"http://auto.naver.com/magazine/magazineReviewList.nhn?sortType=NEW\" onclick=\"return clickcr(this,\\'tcc_aut.link\\',\\'\\',\\'\\', event);\"> 시승기</a><a href=\"http://navercast.naver.com/magazine_list.nhn?cid=2832&attrId=&category_id=2832\" onclick=\"return clickcr(this,\\'tcc_aut.link\\',\\'\\',\\'\\', event);\"> 테크 핫 이슈</a><a href=\"http://navercast.naver.com/magazine_list.nhn?cid=1548&category_id=1548\" onclick=\"return clickcr(this,\\'tcc_aut.link\\',\\'\\',\\'\\', event);\"> 자동차/테크 매거진</a><a href=\"http://post.naver.com/navigator/editorList.nhn?navigationType=push&componentNo=19751\" onclick=\"return clickcr(this,\\'tcc_aut.link\\',\\'\\',\\'\\', event);\"> 테크 에디터</a></dd>\\n</dl>\\n</div><div class=\"cpg tc_cpg\">\\n<span><strong>3</strong>/12</span>\\n<a href=\"#\" class=\"pre\" title=\"이전캐스트\">이전캐스트</a><a href=\"#\" class=\"next\" title=\"다음캐스트\">다음캐스트</a>\\n</div></div>\\n</div>\\n</div>\\n\\n</div>\\n<div id=\"theme_config\" class=\"cast_set\" style=\"display:none\"></div>\\n</div>\\n<div class=\"shopping_cast\">\\n\\n\\n\\n\\n\\n\\n<iframe src=\"http://castbox.shopping.naver.com/sbox/main.nhn\" id=\"cnsv_shbx\" class=\"shop_cast\" title=\"쇼핑캐스트\" marginheight=\"0\" marginwidth=\"0\" scrolling=\"no\" frameborder=\"0\" width=\"298\" height=\"769\">쇼핑캐스트 : <a href=\"http://castbox.shopping.naver.com/sbox/main.nhn\">http://castbox.shopping.naver.com/sbox/main.nhn</a></iframe>\\n\\n</div>\\n</div>\\n<div class=\"column_bn\">\\n<ul id=\"footer_banner\" class=\"lst_bn\">\\n<li>\\n<a href=\"http://www.grafolio.com/event/marketevent.grfl\" target=\"_blank\" onclick=\"clickcr(this,\\'mcb.left\\', \\'7803E801_0000000417FC\\',\\'\\',event);\" data-gdid=\"7803E801_0000000417FC\" data-location=\"left\">\\n<span class=\"thumb\"><img src=\"http://img.naver.net/static/www/m/guide/dummy_1X1.jpg\" data-src=\"http://img.naver.net/static/www/mobile/edit/2016/1121/mobile_174212298332.png\" width=\"90\" height=\"84\" alt=\"그라폴리오 마켓 크리에이터의 오픈마켓 그라폴리오 크리에이터들의 멋진 상품들을 구경하세요\\u200b\">\\n<span class=\"mask\"></span></span>\\n<span class=\"det\">\\n<span class=\"cate\">그라폴리오 마켓</span>\\n<strong class=\"tit\">크리에이터의 오픈마켓</strong>\\n<span class=\"des\">그라폴리오 크리에이터들의<br/>멋진 상품들을 구경하세요\\u200b</span>\\n</span>\\n</a>\\n</li>\\n<li>\\n<a href=\"http://campaign.happybean.naver.com/campaign/1000019006\" target=\"_blank\" onclick=\"clickcr(this,\\'mcb.center\\', \\'7803E801_000000041800\\',\\'\\',event);\" data-gdid=\"7803E801_000000041800\" data-location=\"center\">\\n<span class=\"thumb\"><img src=\"http://img.naver.net/static/www/m/guide/dummy_1X1.jpg\" data-src=\"http://img.naver.net/static/www/mobile/edit/2016/1125/mobile_160134581952.jpg\" width=\"90\" height=\"84\" alt=\"흔들림 없이 공정한 대한민국의 미래 아이들은 백설공주를 왜 나쁘다고 했을까?\">\\n<span class=\"mask\"></span></span>\\n<span class=\"det\">\\n<span class=\"cate\">흔들림 없이 공정한</span>\\n<strong class=\"tit\">대한민국의 미래</strong>\\n<span class=\"des\">아이들은 백설공주를<br/>왜 나쁘다고 했을까?</span>\\n</span>\\n</a>\\n</li>\\n<li class=\"img_style\">\\n<div id=\"veta_time2\" name=\"veta_time2\">\\n<iframe id=\"da_iframe_time2\" name=\"da_iframe_time2\" src=\"http://nv1.veta.naver.com/dr?unit=002AU&nrefreshx=0\"  width=\"300\" height=\"100\" marginheight=\"0\" marginwidth=\"0\" scrolling=\"no\" frameborder=\"0\" align=\"center\" title=\"광고\"></iframe>\\n</div>\\n</li>\\n</ul>\\n</div>\\n<div id=\"svcmore\" class=\"svcmore hide\"></div>\\n</div>\\n<hr />\\n<div id=\"footer\">\\n<dl class=\"notice\">\\n<dt><a href=\"/NOTICE\" class=\"h_notice\">공지사항</a></dt>\\n<dd><a href=\"http://www.naver.com/NOTICE/read/1100001014/10000000000030647028\" onclick=\"clickcr(this, \\'ntc.notice\\',\\'78011B01_0000000E9367\\', \\'\\', event)\" >네이버 ‘개인정보처리방침’ 변경에 대한 안내</a></dd>\\n</dl>\\n<p class=\"svc_all\">\\n<a href=\"more.html\" class=\"h_site\" onclick=\"clickcr(this,\\'ntc.svcmap\\',\\'\\',\\'\\',event);\">서비스 전체보기</a>\\n</p>\\n<dl class=\"policy\">\\n<dt class=\"blind\">네이버 정책 및 약관</dt>\\n<dd class=\"f\"><a href=\"http://www.navercorp.com/\" target=\"_blank\" id=\"plc.intronhn\">회사소개</a></dd>\\n<dd><a href=\"http://mktg.naver.com/\" id=\"plc.adinfo\">광고</a></dd>\\n<dd><a href=\"https://submit.naver.com/\" id=\"plc.search\">마이비즈니스</a></dd>\\n<dd><a href=\"https://www.navercorp.com/ko/company/proposalGuide.nhn\" target=\"_blank\" id=\"plc.contact\">제휴제안</a></dd>\\n<dd><a href=\"rules/service.html\" id=\"plc.service\">이용약관</a></dd>\\n<dd><a href=\"rules/privacy.html\" id=\"plc.privacy\"><strong>개인정보처리방침</strong></a></dd>\\n<dd><a href=\"rules/youthpolicy.html\" id=\"plc.youth\">청소년보호정책</a></dd>\\n<dd><a href=\"rules/spamcheck.html\" id=\"plc.policy\">네이버 정책</a></dd>\\n<dd><a href=\"https://help.naver.com/\" id=\"plc.helpcenter\">네이버 고객센터</a></dd>\\n</dl>\\n<address>&copy; <strong><a href=\"http://www.navercorp.com/\" target=\"_blank\">NAVER Corp.</a></strong></address>\\n</div>\\n</div>\\n<div id=\"dim\" style=\"display:none;\"></div>\\n\\n<script src=\"http://s.pm.naver.net/js/c/jindo.all.20150511.min.js\"></script>\\n<script src=\"http://s.pm.naver.net/js/c/ntop_20161124.min.js\"></script>\\n\\n<script type=\"text/javascript\">\\n//<![CDATA[\\nfunction stripOutCommentBlock(str) {\\nreturn str.replace(/\\\\/\\\\*/, \\'\\').replace(/\\\\*\\\\//, \\'\\').replace(/var(.+)=/gi , \\'$1=\\');\\n}\\nfunction loadModule(id) {\\nvar codeElement = document.getElementById(id),\\ncode = codeElement.innerHTML;\\neval(stripOutCommentBlock(code));\\n}\\nvar isOnload = false;\\nvar ntop1 = \"http://s.pm.naver.net/js/c/ntop1_20161005.min.js\";\\nvar ntop2 = \"http://s.pm.naver.net/js/c/ntop2_20160818.min.js\";\\nvar ntop3 = \"http://s.pm.naver.net/js/c/ntop3_20161005.min.js\";\\nfunction loadJS() {\\nif(!isOnload) {\\nisOnload = true;\\nready1();\\nready2();\\nready3();\\n}\\n}\\nfunction dlerr(msg,id) {\\nif(id){var q=DLScript.quSXI[id];var s=(q)?q.response:\"\";var l=s.length;var msg=\"data : \"+s.substring(l-30)+\"(\"+l+\")\";}\\nJEagleEyeClient.sendError(\"[DL] \"+msg+\" retry\",{message: msg});\\n}\\nfunction ready1() {\\nif(typeof CommonFn == \\'undefined\\') {\\nDLScript.loadXI(ntop1,1005,run1,true); dlerr(\"ready1\");\\n} else { run1(); }\\n}\\nfunction run1() {\\nif ($Element(\"cnsv_shbx\").attr(\"data-src\")) {\\n$(\"cnsv_shbx\").src = $Element(\"cnsv_shbx\").attr(\"data-src\");\\n$Element(\"cnsv_shbx\").attr(\"data-src\", null);\\n}\\nvar ckeys = $Cookie().keys();\\nfor(var i=0;i<ckeys.length;i++) {\\nvar re = new RegExp(\"mp_[a-zA-Z0-9_-]+_mixpanel\");\\nif(re.test(ckeys[i])) { $Cookie().remove(ckeys[i],\"naver.com\"); JEagleEyeClient.sendError(\"[mixpanel] \" + ckeys[i]);}\\n}\\nCommonFn.init();\\nNMS._onWindowLoad();\\nnewSmartSearch();\\n}\\nfunction ready2() {\\nif(typeof NewsStand == \\'undefined\\') {\\nDLScript.loadXI(ntop2,0131,run2,true); dlerr(\"ready2\");\\n} else { run2(); }\\nvar coin = $$.getSingle(\\'.mn_coin\\');\\nif (coin) {\\ncoin.href = \\'https://bill.naver.com/pay/index.nhn\\';\\n}\\nvar bill = $$.getSingle(\\'.mn_bill\\');\\nif (bill) {\\nbill.href = \\'https://bill.naver.com/pay/index.nhn\\';\\n}\\n}\\nfunction run2() {\\nRealTimeRank.init();\\nServiceMenu.init(CommonFn.BaseURL);\\ntry {\\nheadlineList = { \"pid\" : [\"002\",\"003\",\"005\",\"006\",\"008\",\"009\",\"011\",\"013\",\"014\",\"015\",\"016\",\"018\",\"020\",\"021\",\"022\",\"023\",\"024\",\"025\",\"028\",\"029\",\"030\",\"031\",\"032\",\"038\",\"040\",\"042\",\"044\",\"045\",\"047\",\"050\",\"052\",\"055\",\"056\",\"057\",\"073\",\"075\",\"076\",\"079\",\"081\",\"082\",\"083\",\"087\",\"088\",\"089\",\"092\",\"108\",\"109\",\"117\",\"120\",\"122\",\"123\",\"135\",\"138\",\"139\",\"140\",\"143\",\"144\",\"213\",\"214\",\"215\",\"241\",\"243\",\"277\",\"293\",\"296\",\"308\",\"310\",\"311\",\"312\",\"314\",\"326\",\"327\",\"328\",\"329\",\"330\",\"331\",\"332\",\"333\",\"334\",\"335\",\"336\",\"337\",\"338\",\"339\",\"340\",\"344\",\"345\",\"346\",\"354\",\"355\",\"356\",\"361\",\"362\",\"363\",\"364\",\"366\",\"367\",\"368\",\"374\",\"376\",\"384\",\"385\",\"386\",\"387\",\"388\",\"389\",\"390\",\"391\",\"396\",\"404\",\"410\",\"416\",\"417\",\"421\",\"422\",\"440\",\"447\",\"536\",\"539\",\"901\",\"902\",\"903\",\"904\",\"905\",\"906\",\"907\",\"908\",\"909\",\"910\",\"911\",\"912\",\"913\",\"914\",\"915\",\"916\",\"917\",\"918\",\"920\",\"921\",\"922\",\"923\",\"924\",\"925\",\"926\",\"927\",\"928\",\"930\",\"931\",\"932\",\"933\",\"934\",\"935\",\"936\",\"937\",\"938\",\"939\",\"940\",\"941\",\"942\",\"943\",\"944\",\"945\"], \"amigo\" : [] };\\n}\\ncatch(e) {\\nJEagleEyeClient.sendError(\"[NEWSSTAND] headline_pressInfo.json error : \" + e.description );\\n}\\nNewsStand.init(myNewsInfo, myNewsStand, headlineList );\\nNewsCast.FlashNewsRoll.init(\"flash_news\", quickNews);\\n}\\n//]]>\\n</script>\\n<script type=\"text/javascript\">\\n//<![CDATA[\\nfunction ready3() {\\nif(typeof Themecast == \\'undefined\\') {\\nDLScript.loadXI(ntop3,1005,run3,true);\\ndlerr(\"ready3\");\\n} else { run3(); }\\n}\\nfunction run3() {\\nsetTimeout( function() {\\nNMS.Binder.bindImage( $Element(\"themecast_contents\"));\\nNMS.Binder.bindImage( $Element(\"footer_banner\"));\\nNMS.Binder.bindImage( $Element(\"naverapply\"));\\n}, 500 );\\nHomePageSet.init();\\nQuestion.init(qst_idx, qst_size);\\nThemecast.init();\\nAdMobile.init();\\nCenterBanner.init();\\nTimeSquare.init();\\n\\nFont.init();\\n\\nRightBanner.init();\\n// IPAD 인 경우 Flicking Noti 아이콘을 숨겨주는 로직 수행 각 오브젝트의 init 시에 수행하면 동시에 동작하지 않아 이곳에서 일괄 수행\\nif ( global.isSupportedFlicking ) {\\nsetTimeout( function() {\\nThemecast.UI.hideFlickingNoti();\\nNewsStand.UI.hideFlickingNoti();\\n}, 1000);\\n}\\n// 지글아이 설정\\n\\nsetTimeout(naver_bakery.bakeryManager.checkTable, 4000);\\n}\\nwindow.onload = loadJS;\\nsetTimeout(loadJS,3000);\\n//]]>\\n</script>\\n<script id=\"newsLazy\" type=\"text/javascript\">\\n//<![CDATA[\\n\\nvar myNewsInfo=\"\" ; var ncast = \"(none)\"; \\n\\nvar myNewsStand = \"\"; \\n\\nvar newspaperUrl = \"newspaper.naver.com\";\\nvar newsStandUrl = \"newsstand.naver.com\";\\nvar userInfoUrl  = \"userinfo.www.naver.com\";\\nvar opencastUrl  = \"opencast.naver.com\";\\nvar opencastNTopUrl = \"navertop.opencast.naver.com\";\\n\\ntry { quickNews = { \"M\" : [ ], \"N\" : [ [\"국정 교과서 베일 벗었다…건국절 사관 등 논란 ...\", \"http://news.naver.com/main/list.nhn?mode=LPOD&mid=sec&sid1=001&sid2=140&oid=001&isYeonhapFlash=Y&aid=0008852509\"], [\"집필진 &#034;&#039;공과&#039; 균형 서술 초점…사명감에 참여&#034;\", \"http://news.naver.com/main/list.nhn?mode=LPOD&mid=sec&sid1=001&sid2=140&oid=001&isYeonhapFlash=Y&aid=0008852562\"], [\"탄핵→헌재→조기대선…최고 8개월 &#039;불확실 연속...\", \"http://news.naver.com/main/list.nhn?mode=LPOD&mid=sec&sid1=001&sid2=140&oid=001&isYeonhapFlash=Y&aid=0008852280\"], [\"&#039;거북등&#039;처럼 갈라진 與…&#039;탄핵 로드맵&#039; 놓고 분열...\", \"http://news.naver.com/main/list.nhn?mode=LPOD&mid=sec&sid1=001&sid2=140&oid=001&isYeonhapFlash=Y&aid=0008852361\"], [\"2野, 특검후보 리스트 압축…최종선정에 난항 \", \"http://news.naver.com/main/list.nhn?mode=LPOD&mid=sec&sid1=001&sid2=140&oid=001&isYeonhapFlash=Y&aid=0008852365\"], [\"&#034;우병우 2013∼14년 변호사로 수십억 소득 추정&#034;\", \"http://news.naver.com/main/list.nhn?mode=LPOD&mid=sec&sid1=001&sid2=140&oid=001&isYeonhapFlash=Y&aid=0008852460\"], [\"檢 &#039;엘시티 비리연루&#039; 현기환 피의자로 29일 소환\", \"http://news.naver.com/main/list.nhn?mode=LPOD&mid=sec&sid1=001&sid2=140&oid=001&isYeonhapFlash=Y&aid=0008852266\"], [\"&#034;김형준에 할수있는 한 다 해줘&#034; 뇌물공여 사실인...\", \"http://news.naver.com/main/list.nhn?mode=LPOD&mid=sec&sid1=001&sid2=140&oid=001&isYeonhapFlash=Y&aid=0008852452\"], [\"4분기 수도권·제주 제외한 전 지역 경기 &#039;주춤&#039;\", \"http://news.naver.com/main/list.nhn?mode=LPOD&mid=sec&sid1=001&sid2=140&oid=001&isYeonhapFlash=Y&aid=0008852340\"], [\"&#034;안마의자 준다더니 할부금 청구&#034;…상조상품 주의...\", \"http://news.naver.com/main/list.nhn?mode=LPOD&mid=sec&sid1=001&sid2=140&oid=001&isYeonhapFlash=Y&aid=0008852328\"] ] };  } catch (e) { LogError(\"[JSON] quickNews : \" + e.description); }\\n//]]>\\n</script>\\n<script id=\"timesquareLazy\" type=\"text/javascript\">\\n//<![CDATA[\\ntry { tsNormal = {\"data\": [{\"type\": \"N\",\"shortcut\":{\"name\":\"TV편성\", \"url\":\"http://search.naver.com/search.naver?sm=top_tsi&where=nexearch&ie=utf8&query=%ED%8E%B8%EC%84%B1%ED%91%9C\"}, \"html\": \"<h4 class=\\'blind\\'>뉴스/이슈</h4><div class=\\'tsq_news_wrap\\'><ul class=\\'tsq_list\\'><li><a href=&quot;http://news.naver.com/main/hotissue/sectionList.nhn?mid=hot&amp;sid1=110&amp;cid=933879&quot; onclick=&quot;clickcr(this, \\'squ.theme\\',\\'78005501_0000000E8432\\', \\'\\', event)&quot;  class=\\'tit\\'>학습</a> <a href=&quot;http://news.naver.com/main/hotissue/sectionList.nhn?mid=hot&amp;sid1=110&amp;cid=933879&quot; onclick=&quot;clickcr(this, \\'squ.text\\',\\'78005501_0000000E8431\\', \\'\\', event)&quot; >영어  뉴스</a> <span class=\\'bar\\'>|</span> <a href=&quot;http://talkie.naver.com/english/room-list.dict?mode=pc&quot; onclick=&quot;clickcr(this, \\'squ.text\\',\\'78005501_0000000E8438\\', \\'\\', event)&quot; >영어톡톡</a> <span class=\\'bar\\'>|</span> <a href=&quot;http://news.naver.com/main/hotissue/sectionList.nhn?mid=hot&amp;sid1=110&amp;cid=1035193&quot; onclick=&quot;clickcr(this, \\'squ.text\\',\\'78005501_0000000E8437\\', \\'\\', event)&quot; >최신 시사상식</a> </li><li><a href=&quot;http://search.naver.com/search.naver?sm=top_tsi&amp;where=nexearch&amp;ie=utf8&amp;query=%ED%96%89%EC%82%AC%EC%9D%BC%EC%A0%95&quot; onclick=&quot;clickcr(this, \\'squ.theme\\',\\'78005501_0000000E8436\\', \\'\\', event)&quot;  class=\\'tit\\'>행사</a> <a href=&quot;http://search.naver.com/search.naver?sm=top_tsi&amp;where=nexearch&amp;query=%C7%F6%C0%E7%BB%F3%BF%B5%BF%B5%C8%AD&quot; onclick=&quot;clickcr(this, \\'squ.text\\',\\'78005501_0000000E8435\\', \\'\\', event)&quot; >현재 상영 영화</a> <span class=\\'bar\\'>|</span> <a href=&quot;http://search.naver.com/search.naver?sm=top_tsi&amp;where=nexearch&amp;query=%EC%8A%A4%ED%8F%AC%EC%B8%A0+%EA%B2%BD%EA%B8%B0%EC%9D%BC%EC%A0%95&quot; onclick=&quot;clickcr(this, \\'squ.text\\',\\'78005501_0000000E8439\\', \\'\\', event)&quot; >스포츠 경기 일정</a> </li><li><a href=&quot;http://sports.news.naver.com/&quot; onclick=&quot;clickcr(this, \\'squ.theme\\',\\'78005501_0000000E8434\\', \\'\\', event)&quot;  class=\\'tit\\'>스포츠</a> <a href=&quot;http://sports.news.naver.com/kfootball/index.nhn&quot; onclick=&quot;clickcr(this, \\'squ.text\\',\\'78005501_0000000E8433\\', \\'\\', event)&quot; >ACL, \\'돈\\'보다 \\'실력\\'으로 기억될 2016년</a> </li></ul></div>\"},{\"type\": \"L\",\"shortcut\":{\"name\":\"날씨\", \"url\":\"http://weather.naver.com/\"}, \"html\": \"<h4 class=\\'blind\\'>생활</h4><div class=\\'tsq_life_wrap\\'><div class=\\'tsq_weather\\'></div><ul class=\\'tsq_list\\'><li><a href=&quot;http://weather.naver.com/&quot; onclick=&quot;clickcr(this, \\'squ.theme\\',\\'78005501_0000000E8406\\', \\'\\', event)&quot;  class=\\'tit\\'>날씨</a> <a href=&quot;http://search.naver.com/search.naver?sm=top_tsi&amp;where=nexearch&amp;query=%EC%98%A4%EB%8A%98+%EB%82%A0%EC%94%A8&quot; onclick=&quot;clickcr(this, \\'squ.text\\',\\'78005501_0000000E8406\\', \\'\\', event)&quot; >반짝 추위…미세먼지 \\'나쁨\\'</a> <span class=\\'bar\\'>|</span> <a href=&quot;http://weather.naver.com/period/weeklyFcast.nhn&quot; onclick=&quot;clickcr(this, \\'squ.text\\',\\'78005501_0000000E8408\\', \\'\\', event)&quot; >주간 예보</a> </li><li><a href=&quot;http://search.naver.com/search.naver?sm=top_tsi&amp;where=nexearch&amp;ie=utf8&amp;query=%ED%96%89%EC%82%AC%EC%9D%BC%EC%A0%95&quot; onclick=&quot;clickcr(this, \\'squ.theme\\',\\'78005501_0000000E8409\\', \\'\\', event)&quot;  class=\\'tit\\'>행사</a> <a href=&quot;http://search.naver.com/search.naver?sm=top_tsi&amp;where=nexearch&amp;query=%C7%F6%C0%E7%BB%F3%BF%B5%BF%B5%C8%AD&quot; onclick=&quot;clickcr(this, \\'squ.text\\',\\'78005501_0000000E8409\\', \\'\\', event)&quot; >현재 상영 영화</a> <span class=\\'bar\\'>|</span> <a href=&quot;http://search.naver.com/search.naver?sm=top_tsi&amp;where=nexearch&amp;query=%EC%8A%A4%ED%8F%AC%EC%B8%A0+%EA%B2%BD%EA%B8%B0%EC%9D%BC%EC%A0%95&quot; onclick=&quot;clickcr(this, \\'squ.text\\',\\'78005501_0000000E840B\\', \\'\\', event)&quot; >스포츠 주요 경기 일정</a> </li></ul></div>\"},{\"type\": \"E\",\"shortcut\":{\"name\":\"금융\", \"url\":\"http://finance.naver.com/\"}, \"html\": \"<h4 class=\\'blind\\'>경제</h4><div class=\\'tsq_eco_wrap\\'><ul class=\\'tsq_list\\'><li><a href=&quot;http://finance.naver.com/&quot; onclick=&quot;clickcr(this, \\'squ.theme\\',\\'78005501_0000000E83F6\\', \\'\\', event)&quot;  class=\\'tit\\'>증권</a> <a href=&quot;http://finance.naver.com/news/&quot; onclick=&quot;clickcr(this, \\'squ.text\\',\\'78005501_0000000E83F6\\', \\'\\', event)&quot; >\\'안갯 속\\' 증시…남은 한 달 투자법은</a> </li><li><a href=&quot;http://land.naver.com&quot; onclick=&quot;clickcr(this, \\'squ.theme\\',\\'78005501_0000000E83F8\\', \\'\\', event)&quot;  class=\\'tit\\'>부동산</a> <a href=&quot;http://land.naver.com/news/?prsco_id=079&amp;arti_id=0002899867&quot; onclick=&quot;clickcr(this, \\'squ.text\\',\\'78005501_0000000E83F8\\', \\'\\', event)&quot; >부동산 시장 \\'한파 엄습\\'…침체의 늪에</a> </li></ul></div>\"}]}  } catch (e) { LogError(\"[JSON] sqare.json.11 : \" + e.description); }\\n//]]>\\n</script>\\n</body>\\n</html>\\n'"
      ]
     },
     "execution_count": 1,
     "metadata": {},
     "output_type": "execute_result"
    }
   ],
   "source": [
    "import requests\n",
    "\n",
    "requests.get(\"http://naver.com\").text"
   ]
  },
  {
   "cell_type": "code",
   "execution_count": 8,
   "metadata": {
    "collapsed": false
   },
   "outputs": [
    {
     "data": {
      "text/plain": [
       "242857"
      ]
     },
     "execution_count": 8,
     "metadata": {},
     "output_type": "execute_result"
    }
   ],
   "source": [
    "html_url = \"http://comic.naver.com/webtoon/detail.nhn?titleId=675554&no=195&weekday=mon\"\n",
    "image_url = \"http://imgcomic.naver.net/webtoon/675554/195/20161125144754_446f1bf713b3a84cc75a67b738578d96_IMAG01_1.JPG\"\n",
    "\n",
    "import requests\n",
    "html = requests.get(html_url).text\n",
    "open(\"dump.html\", \"wt\", encoding=\"utf8\").write(html)\n",
    "\n",
    "image_data = requests.get(image_url, headers={'referer': html_url}).content\n",
    "open(\"dump.jpg\", \"wb\").write(image_data)"
   ]
  },
  {
   "cell_type": "code",
   "execution_count": 6,
   "metadata": {
    "collapsed": false
   },
   "outputs": [
    {
     "name": "stdout",
     "output_type": "stream",
     "text": [
      "README.md\r\n",
      "dump.html\r\n",
      "dump.jpg\r\n",
      "main01.py\r\n",
      "sample.csv\r\n",
      "test.html\r\n",
      "test.log\r\n",
      "파이썬 강의 #01.ipynb\r\n",
      "\u001b[1m\u001b[36m파이썬 강의 #02\u001b[m\u001b[m\r\n",
      "파이썬 강의 #02.ipynb\r\n",
      "파이썬 강의 #03.ipynb\r\n",
      "\u001b[1m\u001b[36m파이썬 강의 #04\u001b[m\u001b[m\r\n",
      "파이썬 강의 #04.ipynb\r\n",
      "\u001b[1m\u001b[36m파이썬 강의 #05\u001b[m\u001b[m\r\n",
      "파이썬 강의 #05.ipynb\r\n"
     ]
    }
   ],
   "source": [
    "!ls"
   ]
  },
  {
   "cell_type": "code",
   "execution_count": 17,
   "metadata": {
    "collapsed": false
   },
   "outputs": [
    {
     "name": "stdout",
     "output_type": "stream",
     "text": [
      "1 9770276 강길부\n",
      "2 9770933 강병원\n",
      "3 9771036 강석진\n",
      "4 9770512 강석호\n",
      "5 9770279 강창일\n",
      "6 9771054 강효상\n",
      "7 9771007 강훈식\n",
      "8 9770708 경대수\n",
      "9 9770931 고용진\n",
      "10 9770961 곽대훈\n",
      "11 9770956 곽상도\n",
      "12 9771066 권미혁\n",
      "13 9771004 권석창\n",
      "14 9770679 권성동\n",
      "15 9770977 권은희\n",
      "16 9770998 권칠승\n",
      "17 9770937 금태섭\n",
      "18 9770927 기동민\n",
      "19 9771033 김경수\n",
      "20 9770970 김경진\n",
      "21 9770712 김경협\n",
      "22 9770713 김관영\n",
      "23 9770523 김광림\n",
      "24 9771011 김광수\n",
      "25 9771044 김규환\n",
      "26 9770716 김기선\n",
      "27 9770719 김도읍\n",
      "28 9770295 김동철\n",
      "29 9770997 김두관\n",
      "30 9770721 김명연\n",
      "31 9770895 김무성\n",
      "32 9770723 김민기\n",
      "33 9770983 김병관\n",
      "34 9770941 김병기\n",
      "35 9770984 김병욱\n",
      "36 9770960 김부겸\n",
      "37 9771077 김삼화\n",
      "38 9770725 김상훈\n",
      "39 9770527 김상희\n",
      "40 9771024 김석기\n",
      "41 9770930 김선동\n",
      "42 9771065 김성수\n",
      "43 9770942 김성식\n",
      "44 9770985 김성원\n",
      "45 9770727 김성찬\n",
      "46 9770974 김성태\n",
      "47 9771046 김성태\n",
      "48 9770534 김세연\n",
      "49 9771075 김수민\n",
      "50 9771053 김순례\n",
      "51 9771049 김승희\n",
      "52 9770538 김영우\n",
      "53 9770975 김영주\n",
      "54 9770981 김영진\n",
      "55 9770949 김영춘\n",
      "56 9770934 김영호\n",
      "57 9770542 김용태\n",
      "58 9770310 김재경\n",
      "59 9770993 김정우\n",
      "60 9771023 김정재\n",
      "61 9770316 김정훈\n",
      "62 9771083 김종대\n",
      "63 9771009 김종민\n",
      "64 9771048 김종석\n",
      "65 9771057 김종인\n",
      "66 9770738 김종태\n",
      "67 9771016 김종회\n",
      "68 9770978 김종훈\n",
      "69 9771078 김중로\n",
      "70 9770740 김진태\n",
      "71 9770982 김진표\n",
      "72 9770986 김철민\n",
      "73 9770741 김태년\n",
      "74 9770742 김태흠\n",
      "75 9770670 김학용\n",
      "76 9770991 김한정\n",
      "77 9770744 김한표\n",
      "78 9770953 김해영\n",
      "79 9771061 김현권\n",
      "80 9770746 김현미\n",
      "81 9771055 김현아\n",
      "82 9770903 나경원\n",
      "83 9770752 남인순\n",
      "84 9770753 노웅래\n",
      "85 9771031 노회찬\n",
      "86 9770755 도종환\n",
      "87 9771062 문미옥\n",
      "88 9771042 문진국\n",
      "89 9770084 문희상\n",
      "90 9770964 민경욱\n",
      "91 9770761 민병두\n",
      "92 9770764 민홍철\n",
      "93 9771056 박경미\n",
      "94 9770911 박광온\n",
      "95 9770765 박남춘\n",
      "96 9770767 박대출\n",
      "97 9770768 박덕흠\n",
      "98 9770908 박맹우\n",
      "99 9770899 박명재\n",
      "100 9770770 박범계\n",
      "101 9770090 박병석\n",
      "102 9771073 박선숙\n",
      "103 9770944 박성중\n",
      "104 9770987 박순자\n",
      "105 9770347 박영선\n",
      "106 9771030 박완수\n",
      "107 9770774 박완주\n",
      "108 9770929 박용진\n",
      "109 9770776 박인숙\n",
      "110 9770950 박재호\n",
      "111 9770995 박정\n",
      "112 9770932 박주민\n",
      "113 9770566 박주선\n",
      "114 9771071 박주현\n",
      "115 9771022 박준영\n",
      "116 9770568 박지원\n",
      "117 9770963 박찬대\n",
      "118 9771005 박찬우\n",
      "119 9770779 박홍근\n",
      "120 9770904 배덕광\n",
      "121 9771025 백승주\n",
      "122 9770573 백재현\n",
      "123 9770980 백혜련\n",
      "124 9770356 변재일\n",
      "125 9770784 서영교\n",
      "126 9770898 서청원\n",
      "127 9771035 서형수\n",
      "128 9770786 설훈\n",
      "129 9771008 성일종\n",
      "130 9770999 소병훈\n",
      "131 9771019 손금주\n",
      "132 9770935 손혜원\n",
      "133 9770969 송기석\n",
      "134 9771001 송기헌\n",
      "135 9770996 송석준\n",
      "136 9770967 송영길\n",
      "137 9771058 송옥주\n",
      "138 9771039 송희경\n",
      "139 9770792 신경민\n",
      "140 9770968 신동근\n",
      "141 9771045 신보라\n",
      "142 9770921 신상진\n",
      "143 9771069 신용현\n",
      "144 9770989 신창현\n",
      "145 9770869 심상정\n",
      "146 9770798 심재권\n",
      "147 9770138 심재철\n",
      "148 9770587 안규백\n",
      "149 9770372 안민석\n",
      "150 9770919 안상수\n",
      "151 9770896 안철수\n",
      "152 9771017 안호영\n",
      "153 9770375 양승조\n",
      "154 9771010 어기구\n",
      "155 9771034 엄용수\n",
      "156 9770591 여상규\n",
      "157 9770802 염동열\n",
      "158 9771070 오세정\n",
      "159 9770918 오신환\n",
      "160 9771037 오영훈\n",
      "161 9770380 오제세\n",
      "162 9770871 우상호\n",
      "163 9770872 우원식\n",
      "164 9770592 원유철\n",
      "165 9770386 원혜영\n",
      "166 9771038 위성곤\n",
      "167 9770387 유기준\n",
      "168 9770966 유동수\n",
      "169 9771050 유민봉\n",
      "170 9770594 유성엽\n",
      "171 9770497 유승민\n",
      "172 9770874 유승희\n",
      "173 9770807 유은혜\n",
      "174 9770912 유의동\n",
      "175 9770596 유재중\n",
      "176 9770808 윤관석\n",
      "177 9770955 윤상직\n",
      "178 9770598 윤상현\n",
      "179 9771085 윤소하\n",
      "180 9770811 윤영석\n",
      "181 9771021 윤영일\n",
      "182 9770812 윤재옥\n",
      "183 9770979 윤종오\n",
      "184 9771051 윤종필\n",
      "185 9771032 윤한홍\n",
      "186 9770876 윤호중\n",
      "187 9770813 윤후덕\n",
      "188 9770905 이개호\n",
      "189 9770406 이군현\n",
      "190 9771080 이동섭\n",
      "191 9771028 이만희\n",
      "192 9770602 이명수\n",
      "193 9771072 이상돈\n",
      "194 9770414 이상민\n",
      "195 9770416 이석현\n",
      "196 9771003 이양수\n",
      "197 9770822 이언주\n",
      "198 9770824 이완영\n",
      "199 9771067 이용득\n",
      "200 9771018 이용주\n",
      "201 9771015 이용호\n",
      "202 9770825 이우현\n",
      "203 9770826 이원욱\n",
      "204 9770972 이은권\n",
      "205 9770947 이은재\n",
      "206 9770878 이인영\n",
      "207 9770829 이장우\n",
      "208 9771060 이재정\n",
      "209 9771082 이정미\n",
      "210 9770916 이정현\n",
      "211 9770194 이종걸\n",
      "212 9770945 이종구\n",
      "213 9771040 이종명\n",
      "214 9770914 이종배\n",
      "215 9770499 이주영\n",
      "216 9770621 이진복\n",
      "217 9770678 이찬열\n",
      "218 9770835 이채익\n",
      "219 9771002 이철규\n",
      "220 9770685 이철우\n",
      "221 9771063 이철희\n",
      "222 9770623 이춘석\n",
      "223 9771076 이태규\n",
      "224 9770836 이학영\n",
      "225 9770625 이학재\n",
      "226 9770879 이해찬\n",
      "227 9770837 이헌승\n",
      "228 9770838 이현재\n",
      "229 9770943 이혜훈\n",
      "230 9770939 이훈\n",
      "231 9770839 인재근\n",
      "232 9771041 임이자\n",
      "233 9771000 임종성\n",
      "234 9770688 장병완\n",
      "235 9771026 장석춘\n",
      "236 9771079 장정숙\n",
      "237 9770954 장제원\n",
      "238 9770951 전재수\n",
      "239 9770846 전해철\n",
      "240 9770946 전현희\n",
      "241 9770926 전혜숙\n",
      "242 9771047 전희경\n",
      "243 9770439 정갑윤\n",
      "244 9771013 정동영\n",
      "245 9770229 정병국\n",
      "246 9770881 정성호\n",
      "247 9770230 정세균\n",
      "248 9770928 정양석\n",
      "249 9770907 정용기\n",
      "250 9770847 정우택\n",
      "251 9771012 정운천\n",
      "252 9770965 정유섭\n",
      "253 9771020 정인화\n",
      "254 9770988 정재호\n",
      "255 9770957 정종섭\n",
      "256 9771006 정진석\n",
      "257 9771068 정춘숙\n",
      "258 9770958 정태옥\n",
      "259 9771064 제윤경\n",
      "260 9770450 조경태\n",
      "261 9771014 조배숙\n",
      "262 9770973 조승래\n",
      "263 9770648 조원진\n",
      "264 9770990 조응천\n",
      "265 9770456 조정식\n",
      "266 9771052 조훈현\n",
      "267 9770992 주광덕\n",
      "268 9770458 주승용\n",
      "269 9770883 주호영\n",
      "270 9770925 지상욱\n",
      "271 9770852 진선미\n",
      "272 9770462 진영\n",
      "273 9771074 채이배\n",
      "274 9770920 천정배\n",
      "275 9771029 최경환\n",
      "276 9770976 최경환\n",
      "277 9771027 최교일\n",
      "278 9771081 최도자\n",
      "279 9770948 최명길\n",
      "280 9771043 최연혜\n",
      "281 9771059 최운열\n",
      "282 9770952 최인호\n",
      "283 9770962 추경호\n",
      "284 9770659 추미애\n",
      "285 9771084 추혜선\n",
      "286 9770994 표창원\n",
      "287 9770858 하태경\n",
      "288 9770477 한선교\n",
      "289 9770859 한정애\n",
      "290 9770860 함진규\n",
      "291 9770862 홍문종\n",
      "292 9770886 홍문표\n",
      "293 9770676 홍영표\n",
      "294 9770959 홍의락\n",
      "295 9770864 홍익표\n",
      "296 9770665 홍일표\n",
      "297 9770913 홍철호\n",
      "298 9770669 황영철\n",
      "299 9770867 황주홍\n",
      "300 9770936 황희\n"
     ]
    }
   ],
   "source": [
    "# 국회의원 목록\n",
    "url = \"http://www.assembly.go.kr/assm/memact/congressman/memCond/memCondListAjax.do?currentPage=1&rowPerPage=300\"\n",
    "\n",
    "import requests\n",
    "html = requests.get(url).text\n",
    "\n",
    "'''\n",
    "기본 구조\n",
    "class=\"memberna_list\"\n",
    "    <a href=\"javascript:jsMemPop('9770276')\" title=\"강길부의원정보 새창에서 열림\">강길부</a>\n",
    "    <a href=\"javascript:jsMemPop('9770933')\" title=\"강병원의원정보 새창에서 열림\">강병원</a>\n",
    "    <a href=\"javascript:jsMemPop('9771036')\" title=\"강석진의원정보 새창에서 열림\">강석진</a>\n",
    "'''\n",
    "\n",
    "import re\n",
    "from bs4 import BeautifulSoup\n",
    "\n",
    "soup = BeautifulSoup(html, 'html.parser')\n",
    "for idx, tag in enumerate(soup.select('.memberna_list a[href*=jsMemPop]'), 1):\n",
    "    # print(tag)\n",
    "    js = tag['href']\n",
    "    matched = re.match(r'javascript:jsMemPop\\(\\'(\\d+)\\'\\)', js)\n",
    "    if matched:\n",
    "        mem_code = matched.group(1)\n",
    "        mem_name = tag.text\n",
    "        print(idx, mem_code, mem_name)"
   ]
  },
  {
   "cell_type": "markdown",
   "metadata": {},
   "source": [
    "## Selenium"
   ]
  },
  {
   "cell_type": "code",
   "execution_count": 18,
   "metadata": {
    "collapsed": false
   },
   "outputs": [
    {
     "data": {
      "text/plain": [
       "256491"
      ]
     },
     "execution_count": 18,
     "metadata": {},
     "output_type": "execute_result"
    }
   ],
   "source": [
    "python_query_url = \"https://search.naver.com/search.naver?sm=tab_hty.top&where=nexearch&oquery=%ED%8C%8C%EC%9D%B4%EC%8D%AC&ie=utf8&query=%ED%8C%8C%EC%9D%B4%EC%8D%AC\"\n",
    "\n",
    "import requests\n",
    "html = requests.get(python_query_url).text\n",
    "open(\"python_query.html\", \"wt\", encoding=\"utf8\").write(html)"
   ]
  },
  {
   "cell_type": "code",
   "execution_count": 20,
   "metadata": {
    "collapsed": false
   },
   "outputs": [
    {
     "name": "stdout",
     "output_type": "stream",
     "text": [
      "page loaded !!!\n"
     ]
    }
   ],
   "source": [
    "# 네이버 검색 수행\n",
    "\n",
    "import os\n",
    "from contextlib import contextmanager\n",
    "from selenium import webdriver\n",
    "from selenium.common.exceptions import TimeoutException\n",
    "from selenium.webdriver.common.by import By\n",
    "from selenium.webdriver.common.keys import Keys\n",
    "from selenium.webdriver.support.ui import WebDriverWait\n",
    "from selenium.webdriver.support import expected_conditions as EC\n",
    "\n",
    "@contextmanager\n",
    "def chrome():\n",
    "    browser = None\n",
    "    try:\n",
    "        browser = webdriver.Chrome('./mac64_chromedriver')  # FIXME: 각자 경로에 맞게 수정해주세요.\n",
    "        yield browser\n",
    "    finally:\n",
    "        if browser:\n",
    "            browser.close()\n",
    "\n",
    "def main():\n",
    "    with chrome() as browser:\n",
    "        browser.get('http://naver.com')\n",
    "\n",
    "        element = browser.find_element_by_name('query')\n",
    "        element.send_keys('파이썬')\n",
    "        element.send_keys(Keys.RETURN)\n",
    "\n",
    "        delay = 10\n",
    "        try:\n",
    "            WebDriverWait(browser, delay).until(\n",
    "                EC.presence_of_element_located((By.ID, 'main_pack'))\n",
    "            )\n",
    "        except TimeoutException:\n",
    "            print('timeout')\n",
    "\n",
    "        print('page loaded !!!')\n",
    "\n",
    "if __name__ == '__main__':\n",
    "    main()"
   ]
  },
  {
   "cell_type": "code",
   "execution_count": 21,
   "metadata": {
    "collapsed": false
   },
   "outputs": [
    {
     "name": "stdout",
     "output_type": "stream",
     "text": [
      "너의 이름이 무엇이냐?이진석입니다.\n"
     ]
    },
    {
     "data": {
      "text/plain": [
       "'이진석입니다.'"
      ]
     },
     "execution_count": 21,
     "metadata": {},
     "output_type": "execute_result"
    }
   ],
   "source": [
    "input('너의 이름이 무엇이냐?')"
   ]
  },
  {
   "cell_type": "code",
   "execution_count": 22,
   "metadata": {
    "collapsed": false
   },
   "outputs": [
    {
     "name": "stdout",
     "output_type": "stream",
     "text": [
      "너의 암호가 무엇이냐?1234\n"
     ]
    },
    {
     "data": {
      "text/plain": [
       "'1234'"
      ]
     },
     "execution_count": 22,
     "metadata": {},
     "output_type": "execute_result"
    }
   ],
   "source": [
    "input('너의 암호가 무엇이냐?')"
   ]
  },
  {
   "cell_type": "code",
   "execution_count": 23,
   "metadata": {
    "collapsed": false
   },
   "outputs": [
    {
     "name": "stdout",
     "output_type": "stream",
     "text": [
      "너의 암호가 무엇이냐?········\n"
     ]
    },
    {
     "data": {
      "text/plain": [
       "'1234'"
      ]
     },
     "execution_count": 23,
     "metadata": {},
     "output_type": "execute_result"
    }
   ],
   "source": [
    "from getpass import getpass\n",
    "getpass('너의 암호가 무엇이냐?')"
   ]
  },
  {
   "cell_type": "code",
   "execution_count": null,
   "metadata": {
    "collapsed": false
   },
   "outputs": [],
   "source": [
    "# 네이버 이메일 목록 수집\n",
    "\n",
    "import os\n",
    "import sys\n",
    "from time import sleep\n",
    "from getpass import getpass\n",
    "from bs4 import BeautifulSoup\n",
    "from contextlib import contextmanager\n",
    "from selenium import webdriver\n",
    "from selenium.common.exceptions import TimeoutException\n",
    "from selenium.webdriver.common.by import By\n",
    "from selenium.webdriver.common.keys import Keys\n",
    "from selenium.webdriver.support.ui import WebDriverWait\n",
    "from selenium.webdriver.support import expected_conditions as EC\n",
    "\n",
    "\n",
    "@contextmanager\n",
    "def chrome():\n",
    "    browser = None\n",
    "    try:\n",
    "        browser = webdriver.Chrome('./chromedriver')  # FIXME: 각자 환경에 맞게 수정해주세요.\n",
    "        yield browser\n",
    "    finally:\n",
    "        if browser:\n",
    "            browser.close()\n",
    "\n",
    "\n",
    "def wait(browser, delay, by, target):\n",
    "    try:\n",
    "        WebDriverWait(browser, delay).until(\n",
    "            EC.presence_of_element_located((by, target))\n",
    "        )\n",
    "    except TimeoutException:\n",
    "        print('timeout')\n",
    "        sys.exit(1)\n",
    "\n",
    "\n",
    "def main(user_id, user_pw):\n",
    "    with chrome() as browser:\n",
    "        browser.get('https://nid.naver.com/nidlogin.login')\n",
    "\n",
    "        element = browser.find_element_by_id('id')\n",
    "        element.send_keys(user_id)\n",
    "\n",
    "        element = browser.find_element_by_id('pw')\n",
    "        element.send_keys(user_pw)\n",
    "\n",
    "        element.send_keys(Keys.RETURN)\n",
    "\n",
    "        sleep(3)\n",
    "\n",
    "        wait(browser, 3, By.TAG_NAME, 'html')\n",
    "\n",
    "        if 'nidlogin.login' in browser.current_url:\n",
    "            print('로그인 실패')\n",
    "            return None\n",
    "\n",
    "        print('메일 서비스로 이동.')\n",
    "        browser.get('http://mail.naver.com')\n",
    "\n",
    "        wait(browser, 3, By.ID, 'list_for_view')\n",
    "\n",
    "        print('page loaded !!!')\n",
    "\n",
    "        html = browser.page_source\n",
    "        soup = BeautifulSoup(html, 'html.parser')\n",
    "        \n",
    "        # blind 선제거\n",
    "        for blind_tag in soup.select('.blind'):\n",
    "            blind_tag.extract()\n",
    "        \n",
    "        for row_tag in soup.select('#list_for_view .mailList > li'):\n",
    "            name_tag = row_tag.select('.name')[0]\n",
    "            # name_tag.select('.blind')[0].extract()\n",
    "            name = name_tag.text\n",
    "\n",
    "            title_tag = row_tag.select('.subject .mail_title')[0]\n",
    "            # title_tag.select('.blind')[0].extract()\n",
    "            \n",
    "            date_tag = row_tag.select('.iDate')[0]\n",
    "            date = date_tag.text\n",
    "            \n",
    "            print(name, title_tag.text, date)\n",
    "\n",
    "\n",
    "if __name__ == '__main__':\n",
    "    user_id = input('Naver User ID : ')\n",
    "    user_pw = getpass('Naver User Password : ')\n",
    "\n",
    "    main(user_id, user_pw)"
   ]
  },
  {
   "cell_type": "markdown",
   "metadata": {},
   "source": [
    "## Pillow"
   ]
  },
  {
   "cell_type": "code",
   "execution_count": 31,
   "metadata": {
    "collapsed": false
   },
   "outputs": [
    {
     "name": "stdout",
     "output_type": "stream",
     "text": [
      "current size : (1000, 1000)\n"
     ]
    }
   ],
   "source": [
    "from PIL import Image\n",
    "import requests\n",
    "\n",
    "image = requests.get(\"https://ee5817f8e2e9a2e34042-3365e7f0719651e5b8d0979bce83c558.ssl.cf5.rackcdn.com/python.png\").content\n",
    "open(\"python3.png\", \"wb\").write(image)\n",
    "\n",
    "im = Image.open(\"python3.png\")\n",
    "print(\"current size : {}\".format(im.size))\n",
    "small_im = im.resize((300, 300))  # 새로운 Image인스턴스를 생성/리턴\n",
    "# im.thumbnail((300, 300))  # 자신의 Image 인스턴스를 변경\n",
    "small_im.save(\"python3_thumb.png\")\n",
    "small_im.save(\"python3_thumb.jpg\")\n",
    "\n",
    "canvas_white = Image.new('RGBA', small_im.size, (255, 255, 255))\n",
    "merged_im = Image.alpha_composite(canvas_white, small_im)\n",
    "merged_im.save('python3_bg_white.jpg')"
   ]
  },
  {
   "cell_type": "code",
   "execution_count": null,
   "metadata": {
    "collapsed": true
   },
   "outputs": [],
   "source": []
  }
 ],
 "metadata": {
  "anaconda-cloud": {},
  "kernelspec": {
   "display_name": "Python [conda root]",
   "language": "python",
   "name": "conda-root-py"
  },
  "language_info": {
   "codemirror_mode": {
    "name": "ipython",
    "version": 3
   },
   "file_extension": ".py",
   "mimetype": "text/x-python",
   "name": "python",
   "nbconvert_exporter": "python",
   "pygments_lexer": "ipython3",
   "version": "3.5.2"
  }
 },
 "nbformat": 4,
 "nbformat_minor": 1
}
