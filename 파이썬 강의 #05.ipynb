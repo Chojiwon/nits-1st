{
 "cells": [
  {
   "cell_type": "code",
   "execution_count": null,
   "metadata": {
    "collapsed": false
   },
   "outputs": [],
   "source": [
    "import requests\n",
    "\n",
    "requests.get(\"http://naver.com\").text"
   ]
  },
  {
   "cell_type": "code",
   "execution_count": null,
   "metadata": {
    "collapsed": false
   },
   "outputs": [],
   "source": [
    "html_url = \"http://comic.naver.com/webtoon/detail.nhn?titleId=675554&no=195&weekday=mon\"\n",
    "image_url = \"http://imgcomic.naver.net/webtoon/675554/195/20161125144754_446f1bf713b3a84cc75a67b738578d96_IMAG01_1.JPG\"\n",
    "\n",
    "import requests\n",
    "html = requests.get(html_url).text\n",
    "open(\"dump.html\", \"wt\", encoding=\"utf8\").write(html)\n",
    "\n",
    "image_data = requests.get(image_url, headers={'referer': html_url}).content\n",
    "open(\"dump.jpg\", \"wb\").write(image_data)"
   ]
  },
  {
   "cell_type": "code",
   "execution_count": null,
   "metadata": {
    "collapsed": false
   },
   "outputs": [],
   "source": [
    "!ls"
   ]
  },
  {
   "cell_type": "code",
   "execution_count": null,
   "metadata": {
    "collapsed": false
   },
   "outputs": [],
   "source": [
    "# 국회의원 목록\n",
    "url = \"http://www.assembly.go.kr/assm/memact/congressman/memCond/memCondListAjax.do?currentPage=1&rowPerPage=300\"\n",
    "\n",
    "import requests\n",
    "html = requests.get(url).text\n",
    "\n",
    "'''\n",
    "기본 구조\n",
    "class=\"memberna_list\"\n",
    "    <a href=\"javascript:jsMemPop('9770276')\" title=\"강길부의원정보 새창에서 열림\">강길부</a>\n",
    "    <a href=\"javascript:jsMemPop('9770933')\" title=\"강병원의원정보 새창에서 열림\">강병원</a>\n",
    "    <a href=\"javascript:jsMemPop('9771036')\" title=\"강석진의원정보 새창에서 열림\">강석진</a>\n",
    "'''\n",
    "\n",
    "import re\n",
    "from bs4 import BeautifulSoup\n",
    "\n",
    "soup = BeautifulSoup(html, 'html.parser')\n",
    "for idx, tag in enumerate(soup.select('.memberna_list a[href*=jsMemPop]'), 1):\n",
    "    # print(tag)\n",
    "    js = tag['href']\n",
    "    matched = re.match(r'javascript:jsMemPop\\(\\'(\\d+)\\'\\)', js)\n",
    "    if matched:\n",
    "        mem_code = matched.group(1)\n",
    "        mem_name = tag.text\n",
    "        print(idx, mem_code, mem_name)"
   ]
  },
  {
   "cell_type": "markdown",
   "metadata": {},
   "source": [
    "## Selenium"
   ]
  },
  {
   "cell_type": "code",
   "execution_count": null,
   "metadata": {
    "collapsed": false
   },
   "outputs": [],
   "source": [
    "python_query_url = \"https://search.naver.com/search.naver?sm=tab_hty.top&where=nexearch&oquery=%ED%8C%8C%EC%9D%B4%EC%8D%AC&ie=utf8&query=%ED%8C%8C%EC%9D%B4%EC%8D%AC\"\n",
    "\n",
    "import requests\n",
    "html = requests.get(python_query_url).text\n",
    "open(\"python_query.html\", \"wt\", encoding=\"utf8\").write(html)"
   ]
  },
  {
   "cell_type": "code",
   "execution_count": null,
   "metadata": {
    "collapsed": false
   },
   "outputs": [],
   "source": [
    "# 네이버 검색 수행\n",
    "\n",
    "import os\n",
    "from contextlib import contextmanager\n",
    "from selenium import webdriver\n",
    "from selenium.common.exceptions import TimeoutException\n",
    "from selenium.webdriver.common.by import By\n",
    "from selenium.webdriver.common.keys import Keys\n",
    "from selenium.webdriver.support.ui import WebDriverWait\n",
    "from selenium.webdriver.support import expected_conditions as EC\n",
    "\n",
    "@contextmanager\n",
    "def chrome():\n",
    "    browser = None\n",
    "    try:\n",
    "        browser = webdriver.Chrome('./mac64_chromedriver')  # FIXME: 각자 경로에 맞게 수정해주세요.\n",
    "        yield browser\n",
    "    finally:\n",
    "        if browser:\n",
    "            browser.close()\n",
    "\n",
    "def main():\n",
    "    with chrome() as browser:\n",
    "        browser.get('http://naver.com')\n",
    "\n",
    "        element = browser.find_element_by_name('query')\n",
    "        element.send_keys('파이썬')\n",
    "        element.send_keys(Keys.RETURN)\n",
    "\n",
    "        delay = 10\n",
    "        try:\n",
    "            WebDriverWait(browser, delay).until(\n",
    "                EC.presence_of_element_located((By.ID, 'main_pack'))\n",
    "            )\n",
    "        except TimeoutException:\n",
    "            print('timeout')\n",
    "\n",
    "        print('page loaded !!!')\n",
    "\n",
    "if __name__ == '__main__':\n",
    "    main()"
   ]
  },
  {
   "cell_type": "code",
   "execution_count": null,
   "metadata": {
    "collapsed": false
   },
   "outputs": [],
   "source": [
    "input('너의 이름이 무엇이냐?')"
   ]
  },
  {
   "cell_type": "code",
   "execution_count": null,
   "metadata": {
    "collapsed": false
   },
   "outputs": [],
   "source": [
    "input('너의 암호가 무엇이냐?')"
   ]
  },
  {
   "cell_type": "code",
   "execution_count": null,
   "metadata": {
    "collapsed": false
   },
   "outputs": [],
   "source": [
    "from getpass import getpass\n",
    "getpass('너의 암호가 무엇이냐?')"
   ]
  },
  {
   "cell_type": "code",
   "execution_count": null,
   "metadata": {
    "collapsed": false
   },
   "outputs": [],
   "source": [
    "# 네이버 이메일 목록 수집\n",
    "\n",
    "import os\n",
    "import sys\n",
    "from time import sleep\n",
    "from getpass import getpass\n",
    "from bs4 import BeautifulSoup\n",
    "from contextlib import contextmanager\n",
    "from selenium import webdriver\n",
    "from selenium.common.exceptions import TimeoutException\n",
    "from selenium.webdriver.common.by import By\n",
    "from selenium.webdriver.common.keys import Keys\n",
    "from selenium.webdriver.support.ui import WebDriverWait\n",
    "from selenium.webdriver.support import expected_conditions as EC\n",
    "\n",
    "\n",
    "@contextmanager\n",
    "def chrome():\n",
    "    browser = None\n",
    "    try:\n",
    "        browser = webdriver.Chrome('./chromedriver')  # FIXME: 각자 환경에 맞게 수정해주세요.\n",
    "        yield browser\n",
    "    finally:\n",
    "        if browser:\n",
    "            browser.close()\n",
    "\n",
    "\n",
    "def wait(browser, delay, by, target):\n",
    "    try:\n",
    "        WebDriverWait(browser, delay).until(\n",
    "            EC.presence_of_element_located((by, target))\n",
    "        )\n",
    "    except TimeoutException:\n",
    "        print('timeout')\n",
    "        sys.exit(1)\n",
    "\n",
    "\n",
    "def main(user_id, user_pw):\n",
    "    with chrome() as browser:\n",
    "        browser.get('https://nid.naver.com/nidlogin.login')\n",
    "\n",
    "        element = browser.find_element_by_id('id')\n",
    "        element.send_keys(user_id)\n",
    "\n",
    "        element = browser.find_element_by_id('pw')\n",
    "        element.send_keys(user_pw)\n",
    "\n",
    "        element.send_keys(Keys.RETURN)\n",
    "\n",
    "        sleep(3)\n",
    "\n",
    "        wait(browser, 3, By.TAG_NAME, 'html')\n",
    "\n",
    "        if 'nidlogin.login' in browser.current_url:\n",
    "            print('로그인 실패')\n",
    "            return None\n",
    "\n",
    "        print('메일 서비스로 이동.')\n",
    "        browser.get('http://mail.naver.com')\n",
    "\n",
    "        wait(browser, 3, By.ID, 'list_for_view')\n",
    "\n",
    "        print('page loaded !!!')\n",
    "\n",
    "        html = browser.page_source\n",
    "        soup = BeautifulSoup(html, 'html.parser')\n",
    "        \n",
    "        # blind 선제거\n",
    "        for blind_tag in soup.select('.blind'):\n",
    "            blind_tag.extract()\n",
    "        \n",
    "        for row_tag in soup.select('#list_for_view .mailList > li'):\n",
    "            name_tag = row_tag.select('.name')[0]\n",
    "            # name_tag.select('.blind')[0].extract()\n",
    "            name = name_tag.text\n",
    "\n",
    "            title_tag = row_tag.select('.subject .mail_title')[0]\n",
    "            # title_tag.select('.blind')[0].extract()\n",
    "            \n",
    "            date_tag = row_tag.select('.iDate')[0]\n",
    "            date = date_tag.text\n",
    "            \n",
    "            print(name, title_tag.text, date)\n",
    "\n",
    "\n",
    "if __name__ == '__main__':\n",
    "    user_id = input('Naver User ID : ')\n",
    "    user_pw = getpass('Naver User Password : ')\n",
    "\n",
    "    main(user_id, user_pw)"
   ]
  },
  {
   "cell_type": "markdown",
   "metadata": {},
   "source": [
    "## Pillow"
   ]
  },
  {
   "cell_type": "code",
   "execution_count": null,
   "metadata": {
    "collapsed": false
   },
   "outputs": [],
   "source": [
    "from PIL import Image\n",
    "import requests\n",
    "\n",
    "image = requests.get(\"https://ee5817f8e2e9a2e34042-3365e7f0719651e5b8d0979bce83c558.ssl.cf5.rackcdn.com/python.png\").content\n",
    "open(\"python3.png\", \"wb\").write(image)\n",
    "\n",
    "im = Image.open(\"python3.png\")\n",
    "print(\"current size : {}\".format(im.size))\n",
    "small_im = im.resize((300, 300))  # 새로운 Image인스턴스를 생성/리턴\n",
    "# im.thumbnail((300, 300))  # 자신의 Image 인스턴스를 변경\n",
    "small_im.save(\"python3_thumb.png\")\n",
    "small_im.save(\"python3_thumb.jpg\")\n",
    "\n",
    "canvas_white = Image.new('RGBA', small_im.size, (255, 0, 0))\n",
    "merged_im = Image.alpha_composite(canvas_white, small_im)\n",
    "merged_im.save('python3_bg_white.jpg')"
   ]
  },
  {
   "cell_type": "code",
   "execution_count": null,
   "metadata": {
    "collapsed": false
   },
   "outputs": [],
   "source": [
    "# 네이버 웹툰, 특정 에피소드 이미지 Merge\n",
    "\n",
    "ep_url = \"http://comic.naver.com/webtoon/detail.nhn?titleId=662774&no=65&weekday=wed\"\n",
    "\n",
    "import os\n",
    "import requests\n",
    "from time import sleep\n",
    "from bs4 import BeautifulSoup\n",
    "\n",
    "def image_get(url, *args, **kwargs):\n",
    "    filename = os.path.basename(url)\n",
    "    if os.path.exists(filename):\n",
    "        print('cached {}'.format(filename))\n",
    "        return open(filename, 'rb').read()\n",
    "    print('read {}'.format(url))\n",
    "    return requests.get(url, *args, **kwargs).content\n",
    "\n",
    "html = requests.get(ep_url).text\n",
    "soup = BeautifulSoup(html, 'html.parser')\n",
    "\n",
    "for img_tag in soup.select('.wt_viewer img'):\n",
    "    img_url = img_tag['src']\n",
    "    img_data = image_get(img_url, headers={'referer': ep_url})    \n",
    "    img_name = os.path.basename(img_url)\n",
    "    print(img_name)\n",
    "    open(img_name, 'wb').write(img_data)\n",
    "    \n",
    "    sleep(0.1)"
   ]
  },
  {
   "cell_type": "code",
   "execution_count": 2,
   "metadata": {
    "collapsed": false
   },
   "outputs": [
    {
     "name": "stdout",
     "output_type": "stream",
     "text": [
      "canvas_size : [690, 65000]\n",
      "0 0 (690, 2956)\n",
      "2956 0 (690, 146)\n",
      "3102 0 (690, 2791)\n",
      "5893 0 (690, 104)\n",
      "5997 0 (690, 2250)\n",
      "8247 0 (690, 2819)\n",
      "11066 0 (690, 100)\n",
      "11166 0 (690, 2501)\n",
      "13667 0 (690, 190)\n",
      "13857 0 (690, 2668)\n",
      "16525 0 (690, 164)\n",
      "16689 0 (690, 44)\n",
      "16733 0 (690, 2764)\n",
      "19497 0 (690, 164)\n",
      "19661 0 (690, 2344)\n",
      "22005 0 (690, 656)\n",
      "22661 0 (690, 2176)\n",
      "24837 0 (690, 455)\n",
      "25292 0 (690, 2876)\n",
      "28168 0 (690, 124)\n",
      "28292 0 (690, 2362)\n",
      "30654 0 (690, 203)\n",
      "30857 0 (690, 2850)\n",
      "33707 0 (690, 2475)\n",
      "36182 0 (690, 2824)\n",
      "39006 0 (690, 176)\n",
      "39182 0 (690, 2310)\n",
      "41492 0 (690, 2964)\n",
      "44456 0 (690, 36)\n",
      "44492 0 (690, 2757)\n",
      "47249 0 (690, 150)\n",
      "47399 0 (690, 2493)\n",
      "49892 0 (690, 2892)\n",
      "52784 0 (690, 75)\n",
      "52859 0 (690, 108)\n",
      "52967 0 (690, 2058)\n",
      "55025 0 (690, 2424)\n",
      "57449 0 (690, 2796)\n",
      "60245 0 (690, 204)\n",
      "60449 0 (690, 2247)\n",
      "62696 0 (690, 2948)\n",
      "65644 0 (690, 52)\n",
      "65696 0 (690, 2577)\n",
      "68273 0 (690, 162)\n",
      "68435 0 (690, 2932)\n",
      "71367 0 (690, 2362)\n",
      "73729 0 (690, 194)\n",
      "73923 0 (690, 2124)\n",
      "76047 0 (690, 876)\n",
      "76923 0 (690, 2816)\n",
      "79739 0 (690, 64)\n",
      "79803 0 (690, 2406)\n",
      "82209 0 (690, 2325)\n",
      "84534 0 (690, 189)\n",
      "84723 0 (690, 2920)\n",
      "87643 0 (690, 68)\n",
      "87711 0 (690, 80)\n",
      "87791 0 (690, 2394)\n",
      "90185 0 (690, 171)\n",
      "90356 0 (690, 2912)\n",
      "93268 0 (690, 88)\n",
      "93356 0 (690, 2417)\n",
      "95773 0 (690, 583)\n",
      "96356 0 (690, 2244)\n",
      "98600 0 (690, 756)\n",
      "99356 0 (690, 2547)\n",
      "101903 0 (690, 2203)\n",
      "104106 0 (690, 371)\n",
      "104477 0 (690, 2818)\n",
      "107295 0 (640, 300)\n"
     ]
    }
   ],
   "source": [
    "import glob\n",
    "from PIL import Image\n",
    "\n",
    "image_list = [Image.open(filename) for filename in glob.glob('2016*.jpg')]\n",
    "\n",
    "canvas_size = [\n",
    "    max(im.width for im in image_list),\n",
    "    min(65000, sum(im.height for im in image_list)),\n",
    "]\n",
    "\n",
    "print('canvas_size :', canvas_size)\n",
    "canvas = Image.new('RGB', canvas_size, (255, 255, 255))\n",
    "\n",
    "top = 0\n",
    "for im in image_list:\n",
    "    canvas.paste(im, (0, top))\n",
    "    top += im.size[1]\n",
    "\n",
    "canvas.save('고수 - 63화 (일부).jpg')\n"
   ]
  },
  {
   "cell_type": "code",
   "execution_count": null,
   "metadata": {
    "collapsed": true
   },
   "outputs": [],
   "source": []
  }
 ],
 "metadata": {
  "anaconda-cloud": {},
  "kernelspec": {
   "display_name": "Python [conda root]",
   "language": "python",
   "name": "conda-root-py"
  },
  "language_info": {
   "codemirror_mode": {
    "name": "ipython",
    "version": 3
   },
   "file_extension": ".py",
   "mimetype": "text/x-python",
   "name": "python",
   "nbconvert_exporter": "python",
   "pygments_lexer": "ipython3",
   "version": "3.5.2"
  }
 },
 "nbformat": 4,
 "nbformat_minor": 1
}
